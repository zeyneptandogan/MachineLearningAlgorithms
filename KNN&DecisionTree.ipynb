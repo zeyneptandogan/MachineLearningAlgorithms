{
  "nbformat": 4,
  "nbformat_minor": 0,
  "metadata": {
    "accelerator": "GPU",
    "colab": {
      "name": "HW1-CS412-zeyneptandogan.ipynb",
      "provenance": [],
      "collapsed_sections": []
    },
    "kernelspec": {
      "display_name": "Python 3",
      "name": "python3"
    },
    "language_info": {
      "name": "python"
    }
  },
  "cells": [
    {
      "cell_type": "markdown",
      "metadata": {
        "id": "8ZdATmcYU7dI"
      },
      "source": [
        "# CS412 - Machine Learning - 2021\n",
        "## Homework 1\n",
        "100 pts\n",
        "\n",
        "\n",
        "## Goal\n",
        "\n",
        "The goal of this homework is three-fold:\n",
        "\n",
        "*   Introduction to the machine learning experimental set up \n",
        "*   Gain experience with Decision Tree and k-NN approaches\n",
        "*   Gain experience with the Scikit library\n",
        "\n",
        "## Dataset\n",
        "**MNIST** is a collection of 28x28 grayscale images of digits (0-9); hence each pixel is a gray-level from 0-255. \n",
        "\n",
        "**Download the data from Keras. Reserve 20% of the training data for validation** (no need for cross-validation as you have plenty of data) and **use the rest for development (learning your models). The official test data (10,000 samples) should only be used for testing at the end, and not model selection.**\n",
        "\n",
        "## Task \n",
        "Build a classifier (decision tree and k-NN) with the Scikit library function calls to classify digits in the MNIST dataset.\n",
        "\n",
        "## Software: \n",
        "\n",
        "You may find the necessary function references here: \n",
        "\n",
        "http://scikit-learn.org/stable/supervised_learning.html\n",
        "\n",
        "When you search for decision tree for instance, you should find the relevant function and explained parameters, easily.\n",
        "\n",
        "## Submission: \n",
        "Fill this notebook. Write the report section at the end, removing the part in italics. \n",
        "\n",
        "You should prepare a separate pdf document as your homework (name hw1-CS412-yourname.pdf) which consists of the report (Part 8) of the notebook for easy viewing -and- include a link to your notebook from within the pdf report (make sure to include the link obtained from the #share link on top right). "
      ]
    },
    {
      "cell_type": "markdown",
      "metadata": {
        "id": "WmvnWzJvU7dK"
      },
      "source": [
        "##1) Initialize\n",
        "\n",
        "*   First make a copy of the notebook given to you as a starter.\n",
        "\n",
        "*   Make sure you choose Connect form upper right.\n"
      ]
    },
    {
      "cell_type": "markdown",
      "metadata": {
        "id": "NjBdgj93U7dL"
      },
      "source": [
        "## 2) Load training dataset\n",
        "\n",
        "*  Read from Keras library.\n",
        "\n"
      ]
    },
    {
      "cell_type": "code",
      "metadata": {
        "colab": {
          "base_uri": "https://localhost:8080/"
        },
        "id": "Z4KxVh_xU7dL",
        "outputId": "9fa38769-db3f-4f7e-815a-2f9eb75e1edf"
      },
      "source": [
        "#this cell can be skipped at the running time\n",
        "from keras.datasets import mnist\n",
        "(X_train, Y_train), (X_test, y_test) = mnist.load_data()"
      ],
      "execution_count": null,
      "outputs": [
        {
          "output_type": "stream",
          "name": "stdout",
          "text": [
            "Downloading data from https://storage.googleapis.com/tensorflow/tf-keras-datasets/mnist.npz\n",
            "11493376/11490434 [==============================] - 0s 0us/step\n",
            "11501568/11490434 [==============================] - 0s 0us/step\n"
          ]
        }
      ]
    },
    {
      "cell_type": "code",
      "metadata": {
        "colab": {
          "base_uri": "https://localhost:8080/"
        },
        "id": "bjgrqdRAU7dM",
        "outputId": "132a0b7d-9841-4520-d351-16d2bb346a59"
      },
      "source": [
        "# Read data \n",
        "# Load the Pandas libraries with alias 'pd' \n",
        "import pandas as pd \n",
        "\n",
        "\n",
        "# Read data \n",
        "#from 3d to 2d \n",
        "X_trainUpd=X_train.reshape(X_train.shape[0],-1)\n",
        "X_testUpd=X_test.reshape(X_test.shape[0],-1)\n",
        "\n",
        "print(X_trainUpd.shape, X_testUpd.shape)\n",
        "\n",
        "df_X_train=pd.DataFrame(X_trainUpd)  #must pass 2d input\n",
        "df_y_train=pd.DataFrame(Y_train,columns=[\"label\"])\n"
      ],
      "execution_count": null,
      "outputs": [
        {
          "output_type": "stream",
          "name": "stdout",
          "text": [
            "(60000, 784) (10000, 784)\n"
          ]
        }
      ]
    },
    {
      "cell_type": "markdown",
      "metadata": {
        "id": "KYydbBCSU7dN"
      },
      "source": [
        "##3) Understanding the dataset\n",
        "\n",
        "There are alot of functions that can be used to know more about this dataset\n",
        "\n",
        "- What is the shape of the training set (num of samples X number of attributes) ***[shape function can be used]***\n",
        "\n",
        "- Display attribute names ***[columns function can be used]***\n",
        "\n",
        "- Display the first 5 rows from training dataset ***[head or sample functions can be used]***\n",
        "\n",
        ".."
      ]
    },
    {
      "cell_type": "code",
      "metadata": {
        "colab": {
          "base_uri": "https://localhost:8080/"
        },
        "id": "NzXj6dqQU7dO",
        "outputId": "2617ffa2-00be-4d9e-d85d-91584b400acb"
      },
      "source": [
        "#this cell can be skipped at the running\n",
        "#print attribute names\n",
        "train_df = pd.concat((df_X_train, df_y_train), axis=1)\n",
        "print(train_df.columns) #attribute names"
      ],
      "execution_count": null,
      "outputs": [
        {
          "output_type": "stream",
          "name": "stdout",
          "text": [
            "Index([      0,       1,       2,       3,       4,       5,       6,       7,\n",
            "             8,       9,\n",
            "       ...\n",
            "           775,     776,     777,     778,     779,     780,     781,     782,\n",
            "           783, 'label'],\n",
            "      dtype='object', length=785)\n"
          ]
        }
      ]
    },
    {
      "cell_type": "code",
      "metadata": {
        "colab": {
          "base_uri": "https://localhost:8080/",
          "height": 288
        },
        "id": "BpSdQr5OU7dO",
        "outputId": "ea75bb2b-d43c-480e-d721-13805f5e58b0"
      },
      "source": [
        "# print shape\n",
        "print('Data Dimensionality: ',train_df.shape)\n",
        "\n",
        "# print first 5 rows in your dataset\n",
        "print('Head of Data: ')\n",
        "train_df.head()\n"
      ],
      "execution_count": null,
      "outputs": [
        {
          "output_type": "stream",
          "name": "stdout",
          "text": [
            "Data Dimensionality:  (60000, 785)\n",
            "Head of Data: \n"
          ]
        },
        {
          "output_type": "execute_result",
          "data": {
            "text/html": [
              "<div>\n",
              "<style scoped>\n",
              "    .dataframe tbody tr th:only-of-type {\n",
              "        vertical-align: middle;\n",
              "    }\n",
              "\n",
              "    .dataframe tbody tr th {\n",
              "        vertical-align: top;\n",
              "    }\n",
              "\n",
              "    .dataframe thead th {\n",
              "        text-align: right;\n",
              "    }\n",
              "</style>\n",
              "<table border=\"1\" class=\"dataframe\">\n",
              "  <thead>\n",
              "    <tr style=\"text-align: right;\">\n",
              "      <th></th>\n",
              "      <th>0</th>\n",
              "      <th>1</th>\n",
              "      <th>2</th>\n",
              "      <th>3</th>\n",
              "      <th>4</th>\n",
              "      <th>5</th>\n",
              "      <th>6</th>\n",
              "      <th>7</th>\n",
              "      <th>8</th>\n",
              "      <th>9</th>\n",
              "      <th>10</th>\n",
              "      <th>11</th>\n",
              "      <th>12</th>\n",
              "      <th>13</th>\n",
              "      <th>14</th>\n",
              "      <th>15</th>\n",
              "      <th>16</th>\n",
              "      <th>17</th>\n",
              "      <th>18</th>\n",
              "      <th>19</th>\n",
              "      <th>20</th>\n",
              "      <th>21</th>\n",
              "      <th>22</th>\n",
              "      <th>23</th>\n",
              "      <th>24</th>\n",
              "      <th>25</th>\n",
              "      <th>26</th>\n",
              "      <th>27</th>\n",
              "      <th>28</th>\n",
              "      <th>29</th>\n",
              "      <th>30</th>\n",
              "      <th>31</th>\n",
              "      <th>32</th>\n",
              "      <th>33</th>\n",
              "      <th>34</th>\n",
              "      <th>35</th>\n",
              "      <th>36</th>\n",
              "      <th>37</th>\n",
              "      <th>38</th>\n",
              "      <th>39</th>\n",
              "      <th>...</th>\n",
              "      <th>745</th>\n",
              "      <th>746</th>\n",
              "      <th>747</th>\n",
              "      <th>748</th>\n",
              "      <th>749</th>\n",
              "      <th>750</th>\n",
              "      <th>751</th>\n",
              "      <th>752</th>\n",
              "      <th>753</th>\n",
              "      <th>754</th>\n",
              "      <th>755</th>\n",
              "      <th>756</th>\n",
              "      <th>757</th>\n",
              "      <th>758</th>\n",
              "      <th>759</th>\n",
              "      <th>760</th>\n",
              "      <th>761</th>\n",
              "      <th>762</th>\n",
              "      <th>763</th>\n",
              "      <th>764</th>\n",
              "      <th>765</th>\n",
              "      <th>766</th>\n",
              "      <th>767</th>\n",
              "      <th>768</th>\n",
              "      <th>769</th>\n",
              "      <th>770</th>\n",
              "      <th>771</th>\n",
              "      <th>772</th>\n",
              "      <th>773</th>\n",
              "      <th>774</th>\n",
              "      <th>775</th>\n",
              "      <th>776</th>\n",
              "      <th>777</th>\n",
              "      <th>778</th>\n",
              "      <th>779</th>\n",
              "      <th>780</th>\n",
              "      <th>781</th>\n",
              "      <th>782</th>\n",
              "      <th>783</th>\n",
              "      <th>label</th>\n",
              "    </tr>\n",
              "  </thead>\n",
              "  <tbody>\n",
              "    <tr>\n",
              "      <th>0</th>\n",
              "      <td>0</td>\n",
              "      <td>0</td>\n",
              "      <td>0</td>\n",
              "      <td>0</td>\n",
              "      <td>0</td>\n",
              "      <td>0</td>\n",
              "      <td>0</td>\n",
              "      <td>0</td>\n",
              "      <td>0</td>\n",
              "      <td>0</td>\n",
              "      <td>0</td>\n",
              "      <td>0</td>\n",
              "      <td>0</td>\n",
              "      <td>0</td>\n",
              "      <td>0</td>\n",
              "      <td>0</td>\n",
              "      <td>0</td>\n",
              "      <td>0</td>\n",
              "      <td>0</td>\n",
              "      <td>0</td>\n",
              "      <td>0</td>\n",
              "      <td>0</td>\n",
              "      <td>0</td>\n",
              "      <td>0</td>\n",
              "      <td>0</td>\n",
              "      <td>0</td>\n",
              "      <td>0</td>\n",
              "      <td>0</td>\n",
              "      <td>0</td>\n",
              "      <td>0</td>\n",
              "      <td>0</td>\n",
              "      <td>0</td>\n",
              "      <td>0</td>\n",
              "      <td>0</td>\n",
              "      <td>0</td>\n",
              "      <td>0</td>\n",
              "      <td>0</td>\n",
              "      <td>0</td>\n",
              "      <td>0</td>\n",
              "      <td>0</td>\n",
              "      <td>...</td>\n",
              "      <td>0</td>\n",
              "      <td>0</td>\n",
              "      <td>0</td>\n",
              "      <td>0</td>\n",
              "      <td>0</td>\n",
              "      <td>0</td>\n",
              "      <td>0</td>\n",
              "      <td>0</td>\n",
              "      <td>0</td>\n",
              "      <td>0</td>\n",
              "      <td>0</td>\n",
              "      <td>0</td>\n",
              "      <td>0</td>\n",
              "      <td>0</td>\n",
              "      <td>0</td>\n",
              "      <td>0</td>\n",
              "      <td>0</td>\n",
              "      <td>0</td>\n",
              "      <td>0</td>\n",
              "      <td>0</td>\n",
              "      <td>0</td>\n",
              "      <td>0</td>\n",
              "      <td>0</td>\n",
              "      <td>0</td>\n",
              "      <td>0</td>\n",
              "      <td>0</td>\n",
              "      <td>0</td>\n",
              "      <td>0</td>\n",
              "      <td>0</td>\n",
              "      <td>0</td>\n",
              "      <td>0</td>\n",
              "      <td>0</td>\n",
              "      <td>0</td>\n",
              "      <td>0</td>\n",
              "      <td>0</td>\n",
              "      <td>0</td>\n",
              "      <td>0</td>\n",
              "      <td>0</td>\n",
              "      <td>0</td>\n",
              "      <td>5</td>\n",
              "    </tr>\n",
              "    <tr>\n",
              "      <th>1</th>\n",
              "      <td>0</td>\n",
              "      <td>0</td>\n",
              "      <td>0</td>\n",
              "      <td>0</td>\n",
              "      <td>0</td>\n",
              "      <td>0</td>\n",
              "      <td>0</td>\n",
              "      <td>0</td>\n",
              "      <td>0</td>\n",
              "      <td>0</td>\n",
              "      <td>0</td>\n",
              "      <td>0</td>\n",
              "      <td>0</td>\n",
              "      <td>0</td>\n",
              "      <td>0</td>\n",
              "      <td>0</td>\n",
              "      <td>0</td>\n",
              "      <td>0</td>\n",
              "      <td>0</td>\n",
              "      <td>0</td>\n",
              "      <td>0</td>\n",
              "      <td>0</td>\n",
              "      <td>0</td>\n",
              "      <td>0</td>\n",
              "      <td>0</td>\n",
              "      <td>0</td>\n",
              "      <td>0</td>\n",
              "      <td>0</td>\n",
              "      <td>0</td>\n",
              "      <td>0</td>\n",
              "      <td>0</td>\n",
              "      <td>0</td>\n",
              "      <td>0</td>\n",
              "      <td>0</td>\n",
              "      <td>0</td>\n",
              "      <td>0</td>\n",
              "      <td>0</td>\n",
              "      <td>0</td>\n",
              "      <td>0</td>\n",
              "      <td>0</td>\n",
              "      <td>...</td>\n",
              "      <td>0</td>\n",
              "      <td>0</td>\n",
              "      <td>0</td>\n",
              "      <td>0</td>\n",
              "      <td>0</td>\n",
              "      <td>0</td>\n",
              "      <td>0</td>\n",
              "      <td>0</td>\n",
              "      <td>0</td>\n",
              "      <td>0</td>\n",
              "      <td>0</td>\n",
              "      <td>0</td>\n",
              "      <td>0</td>\n",
              "      <td>0</td>\n",
              "      <td>0</td>\n",
              "      <td>0</td>\n",
              "      <td>0</td>\n",
              "      <td>0</td>\n",
              "      <td>0</td>\n",
              "      <td>0</td>\n",
              "      <td>0</td>\n",
              "      <td>0</td>\n",
              "      <td>0</td>\n",
              "      <td>0</td>\n",
              "      <td>0</td>\n",
              "      <td>0</td>\n",
              "      <td>0</td>\n",
              "      <td>0</td>\n",
              "      <td>0</td>\n",
              "      <td>0</td>\n",
              "      <td>0</td>\n",
              "      <td>0</td>\n",
              "      <td>0</td>\n",
              "      <td>0</td>\n",
              "      <td>0</td>\n",
              "      <td>0</td>\n",
              "      <td>0</td>\n",
              "      <td>0</td>\n",
              "      <td>0</td>\n",
              "      <td>0</td>\n",
              "    </tr>\n",
              "    <tr>\n",
              "      <th>2</th>\n",
              "      <td>0</td>\n",
              "      <td>0</td>\n",
              "      <td>0</td>\n",
              "      <td>0</td>\n",
              "      <td>0</td>\n",
              "      <td>0</td>\n",
              "      <td>0</td>\n",
              "      <td>0</td>\n",
              "      <td>0</td>\n",
              "      <td>0</td>\n",
              "      <td>0</td>\n",
              "      <td>0</td>\n",
              "      <td>0</td>\n",
              "      <td>0</td>\n",
              "      <td>0</td>\n",
              "      <td>0</td>\n",
              "      <td>0</td>\n",
              "      <td>0</td>\n",
              "      <td>0</td>\n",
              "      <td>0</td>\n",
              "      <td>0</td>\n",
              "      <td>0</td>\n",
              "      <td>0</td>\n",
              "      <td>0</td>\n",
              "      <td>0</td>\n",
              "      <td>0</td>\n",
              "      <td>0</td>\n",
              "      <td>0</td>\n",
              "      <td>0</td>\n",
              "      <td>0</td>\n",
              "      <td>0</td>\n",
              "      <td>0</td>\n",
              "      <td>0</td>\n",
              "      <td>0</td>\n",
              "      <td>0</td>\n",
              "      <td>0</td>\n",
              "      <td>0</td>\n",
              "      <td>0</td>\n",
              "      <td>0</td>\n",
              "      <td>0</td>\n",
              "      <td>...</td>\n",
              "      <td>0</td>\n",
              "      <td>0</td>\n",
              "      <td>0</td>\n",
              "      <td>0</td>\n",
              "      <td>0</td>\n",
              "      <td>0</td>\n",
              "      <td>0</td>\n",
              "      <td>0</td>\n",
              "      <td>0</td>\n",
              "      <td>0</td>\n",
              "      <td>0</td>\n",
              "      <td>0</td>\n",
              "      <td>0</td>\n",
              "      <td>0</td>\n",
              "      <td>0</td>\n",
              "      <td>0</td>\n",
              "      <td>0</td>\n",
              "      <td>0</td>\n",
              "      <td>0</td>\n",
              "      <td>0</td>\n",
              "      <td>0</td>\n",
              "      <td>0</td>\n",
              "      <td>0</td>\n",
              "      <td>0</td>\n",
              "      <td>0</td>\n",
              "      <td>0</td>\n",
              "      <td>0</td>\n",
              "      <td>0</td>\n",
              "      <td>0</td>\n",
              "      <td>0</td>\n",
              "      <td>0</td>\n",
              "      <td>0</td>\n",
              "      <td>0</td>\n",
              "      <td>0</td>\n",
              "      <td>0</td>\n",
              "      <td>0</td>\n",
              "      <td>0</td>\n",
              "      <td>0</td>\n",
              "      <td>0</td>\n",
              "      <td>4</td>\n",
              "    </tr>\n",
              "    <tr>\n",
              "      <th>3</th>\n",
              "      <td>0</td>\n",
              "      <td>0</td>\n",
              "      <td>0</td>\n",
              "      <td>0</td>\n",
              "      <td>0</td>\n",
              "      <td>0</td>\n",
              "      <td>0</td>\n",
              "      <td>0</td>\n",
              "      <td>0</td>\n",
              "      <td>0</td>\n",
              "      <td>0</td>\n",
              "      <td>0</td>\n",
              "      <td>0</td>\n",
              "      <td>0</td>\n",
              "      <td>0</td>\n",
              "      <td>0</td>\n",
              "      <td>0</td>\n",
              "      <td>0</td>\n",
              "      <td>0</td>\n",
              "      <td>0</td>\n",
              "      <td>0</td>\n",
              "      <td>0</td>\n",
              "      <td>0</td>\n",
              "      <td>0</td>\n",
              "      <td>0</td>\n",
              "      <td>0</td>\n",
              "      <td>0</td>\n",
              "      <td>0</td>\n",
              "      <td>0</td>\n",
              "      <td>0</td>\n",
              "      <td>0</td>\n",
              "      <td>0</td>\n",
              "      <td>0</td>\n",
              "      <td>0</td>\n",
              "      <td>0</td>\n",
              "      <td>0</td>\n",
              "      <td>0</td>\n",
              "      <td>0</td>\n",
              "      <td>0</td>\n",
              "      <td>0</td>\n",
              "      <td>...</td>\n",
              "      <td>0</td>\n",
              "      <td>0</td>\n",
              "      <td>0</td>\n",
              "      <td>0</td>\n",
              "      <td>0</td>\n",
              "      <td>0</td>\n",
              "      <td>0</td>\n",
              "      <td>0</td>\n",
              "      <td>0</td>\n",
              "      <td>0</td>\n",
              "      <td>0</td>\n",
              "      <td>0</td>\n",
              "      <td>0</td>\n",
              "      <td>0</td>\n",
              "      <td>0</td>\n",
              "      <td>0</td>\n",
              "      <td>0</td>\n",
              "      <td>0</td>\n",
              "      <td>0</td>\n",
              "      <td>0</td>\n",
              "      <td>0</td>\n",
              "      <td>0</td>\n",
              "      <td>0</td>\n",
              "      <td>0</td>\n",
              "      <td>0</td>\n",
              "      <td>0</td>\n",
              "      <td>0</td>\n",
              "      <td>0</td>\n",
              "      <td>0</td>\n",
              "      <td>0</td>\n",
              "      <td>0</td>\n",
              "      <td>0</td>\n",
              "      <td>0</td>\n",
              "      <td>0</td>\n",
              "      <td>0</td>\n",
              "      <td>0</td>\n",
              "      <td>0</td>\n",
              "      <td>0</td>\n",
              "      <td>0</td>\n",
              "      <td>1</td>\n",
              "    </tr>\n",
              "    <tr>\n",
              "      <th>4</th>\n",
              "      <td>0</td>\n",
              "      <td>0</td>\n",
              "      <td>0</td>\n",
              "      <td>0</td>\n",
              "      <td>0</td>\n",
              "      <td>0</td>\n",
              "      <td>0</td>\n",
              "      <td>0</td>\n",
              "      <td>0</td>\n",
              "      <td>0</td>\n",
              "      <td>0</td>\n",
              "      <td>0</td>\n",
              "      <td>0</td>\n",
              "      <td>0</td>\n",
              "      <td>0</td>\n",
              "      <td>0</td>\n",
              "      <td>0</td>\n",
              "      <td>0</td>\n",
              "      <td>0</td>\n",
              "      <td>0</td>\n",
              "      <td>0</td>\n",
              "      <td>0</td>\n",
              "      <td>0</td>\n",
              "      <td>0</td>\n",
              "      <td>0</td>\n",
              "      <td>0</td>\n",
              "      <td>0</td>\n",
              "      <td>0</td>\n",
              "      <td>0</td>\n",
              "      <td>0</td>\n",
              "      <td>0</td>\n",
              "      <td>0</td>\n",
              "      <td>0</td>\n",
              "      <td>0</td>\n",
              "      <td>0</td>\n",
              "      <td>0</td>\n",
              "      <td>0</td>\n",
              "      <td>0</td>\n",
              "      <td>0</td>\n",
              "      <td>0</td>\n",
              "      <td>...</td>\n",
              "      <td>252</td>\n",
              "      <td>42</td>\n",
              "      <td>0</td>\n",
              "      <td>0</td>\n",
              "      <td>0</td>\n",
              "      <td>0</td>\n",
              "      <td>0</td>\n",
              "      <td>0</td>\n",
              "      <td>0</td>\n",
              "      <td>0</td>\n",
              "      <td>0</td>\n",
              "      <td>0</td>\n",
              "      <td>0</td>\n",
              "      <td>0</td>\n",
              "      <td>0</td>\n",
              "      <td>0</td>\n",
              "      <td>0</td>\n",
              "      <td>0</td>\n",
              "      <td>0</td>\n",
              "      <td>0</td>\n",
              "      <td>0</td>\n",
              "      <td>0</td>\n",
              "      <td>0</td>\n",
              "      <td>0</td>\n",
              "      <td>0</td>\n",
              "      <td>0</td>\n",
              "      <td>0</td>\n",
              "      <td>0</td>\n",
              "      <td>0</td>\n",
              "      <td>0</td>\n",
              "      <td>0</td>\n",
              "      <td>0</td>\n",
              "      <td>0</td>\n",
              "      <td>0</td>\n",
              "      <td>0</td>\n",
              "      <td>0</td>\n",
              "      <td>0</td>\n",
              "      <td>0</td>\n",
              "      <td>0</td>\n",
              "      <td>9</td>\n",
              "    </tr>\n",
              "  </tbody>\n",
              "</table>\n",
              "<p>5 rows × 785 columns</p>\n",
              "</div>"
            ],
            "text/plain": [
              "   0  1  2  3  4  5  6  7  8  ...  776  777  778  779  780  781  782  783  label\n",
              "0  0  0  0  0  0  0  0  0  0  ...    0    0    0    0    0    0    0    0      5\n",
              "1  0  0  0  0  0  0  0  0  0  ...    0    0    0    0    0    0    0    0      0\n",
              "2  0  0  0  0  0  0  0  0  0  ...    0    0    0    0    0    0    0    0      4\n",
              "3  0  0  0  0  0  0  0  0  0  ...    0    0    0    0    0    0    0    0      1\n",
              "4  0  0  0  0  0  0  0  0  0  ...    0    0    0    0    0    0    0    0      9\n",
              "\n",
              "[5 rows x 785 columns]"
            ]
          },
          "metadata": {},
          "execution_count": 6
        }
      ]
    },
    {
      "cell_type": "markdown",
      "metadata": {
        "id": "eNbb25PsU7dQ"
      },
      "source": [
        "##4) Shuffle and Split TRAINING data as train (also called development) (80%) and validation (20%) "
      ]
    },
    {
      "cell_type": "code",
      "metadata": {
        "colab": {
          "base_uri": "https://localhost:8080/"
        },
        "id": "eDjsuUvrU7dR",
        "outputId": "f79e788c-2cdd-4c1f-ddb4-1da1b169e0f8"
      },
      "source": [
        "from sklearn.utils import shuffle\n",
        "\n",
        "# Shuffle the training data\n",
        "\n",
        "Normalized_X_train=X_trainUpd/255.0\n",
        "Normalized_X_test=X_testUpd/255.0\n",
        "\n",
        "Normalized_X_train,Y_train=shuffle(Normalized_X_train,Y_train,random_state=123)\n",
        "\n",
        "# Split 80-20\n",
        "from sklearn.model_selection import train_test_split\n",
        "xtrain,xvalid,ytrain,yvalid=train_test_split(Normalized_X_train,Y_train,train_size=0.8,random_state=42)\n",
        "print(xtrain.shape,xvalid.shape)"
      ],
      "execution_count": null,
      "outputs": [
        {
          "output_type": "stream",
          "name": "stdout",
          "text": [
            "(48000, 784) (12000, 784)\n"
          ]
        }
      ]
    },
    {
      "cell_type": "markdown",
      "metadata": {
        "id": "9pzEdTrkU7dU"
      },
      "source": [
        "##5) Train decision tree and k-NN  classifiers on development data and do model selection using the validation data\n",
        "\n",
        "\n",
        "* Train a decision tree (try  4 different meta-parameters, varying max_depth and min_samples_split. You should play with different values, maybe 10 or 20 for max-depth and 100 or 200 for min_samples_split) and a k-NN classifier (use k=3 and k=7, do not try other values) with the rest of the parameters set to default. \n",
        "\n",
        "* The aim in this homework is not necessarily obtaining the best performance, but to establish the ML pipeline (train a few models, select based on validation set, test, report).\n"
      ]
    },
    {
      "cell_type": "code",
      "metadata": {
        "colab": {
          "base_uri": "https://localhost:8080/"
        },
        "id": "zgatSML4c5WX",
        "outputId": "c10ddfaa-6865-410c-e38e-c6fd7b004855"
      },
      "source": [
        "#train decision tree\n",
        "from sklearn.tree import DecisionTreeClassifier\n",
        "\n",
        "#1st decision tree with max depth 10, min samples split 100\n",
        "dt_1=DecisionTreeClassifier(max_depth=10, min_samples_split=100)\n",
        "print(dt_1.fit(xtrain,ytrain))\n",
        "\n",
        "#2nd decision tree with max depth 10, min samples split 200\n",
        "dt_2=DecisionTreeClassifier(max_depth=10, min_samples_split=200)\n",
        "print(dt_2.fit(xtrain,ytrain))\n",
        "\n",
        "#3rd decision tree with max depth 20, min samples split 100\n",
        "dt_3=DecisionTreeClassifier(max_depth=20, min_samples_split=100)\n",
        "print(dt_3.fit(xtrain,ytrain))\n",
        "\n",
        "#4th decision tree with max depth 20, min samples split 200\n",
        "dt_4=DecisionTreeClassifier(max_depth=20, min_samples_split=200)\n",
        "print(dt_4.fit(xtrain,ytrain))\n"
      ],
      "execution_count": null,
      "outputs": [
        {
          "output_type": "stream",
          "name": "stdout",
          "text": [
            "DecisionTreeClassifier(ccp_alpha=0.0, class_weight=None, criterion='gini',\n",
            "                       max_depth=10, max_features=None, max_leaf_nodes=None,\n",
            "                       min_impurity_decrease=0.0, min_impurity_split=None,\n",
            "                       min_samples_leaf=1, min_samples_split=100,\n",
            "                       min_weight_fraction_leaf=0.0, presort='deprecated',\n",
            "                       random_state=None, splitter='best')\n",
            "DecisionTreeClassifier(ccp_alpha=0.0, class_weight=None, criterion='gini',\n",
            "                       max_depth=10, max_features=None, max_leaf_nodes=None,\n",
            "                       min_impurity_decrease=0.0, min_impurity_split=None,\n",
            "                       min_samples_leaf=1, min_samples_split=200,\n",
            "                       min_weight_fraction_leaf=0.0, presort='deprecated',\n",
            "                       random_state=None, splitter='best')\n",
            "DecisionTreeClassifier(ccp_alpha=0.0, class_weight=None, criterion='gini',\n",
            "                       max_depth=20, max_features=None, max_leaf_nodes=None,\n",
            "                       min_impurity_decrease=0.0, min_impurity_split=None,\n",
            "                       min_samples_leaf=1, min_samples_split=100,\n",
            "                       min_weight_fraction_leaf=0.0, presort='deprecated',\n",
            "                       random_state=None, splitter='best')\n",
            "DecisionTreeClassifier(ccp_alpha=0.0, class_weight=None, criterion='gini',\n",
            "                       max_depth=20, max_features=None, max_leaf_nodes=None,\n",
            "                       min_impurity_decrease=0.0, min_impurity_split=None,\n",
            "                       min_samples_leaf=1, min_samples_split=200,\n",
            "                       min_weight_fraction_leaf=0.0, presort='deprecated',\n",
            "                       random_state=None, splitter='best')\n"
          ]
        }
      ]
    },
    {
      "cell_type": "code",
      "metadata": {
        "colab": {
          "base_uri": "https://localhost:8080/"
        },
        "id": "PN7138pKfIJs",
        "outputId": "e835d997-c58e-4f52-a5bc-363903aae0ed"
      },
      "source": [
        "# Train k-NN classifiers\n",
        "from sklearn.neighbors import KNeighborsClassifier\n",
        "knn_1=KNeighborsClassifier(n_neighbors=3)\n",
        "print(knn_1.fit(xtrain,ytrain))\n",
        "\n",
        "knn_2=KNeighborsClassifier(n_neighbors=7)\n",
        "print(knn_2.fit(xtrain,ytrain))\n",
        "\n",
        "# Report your results  "
      ],
      "execution_count": null,
      "outputs": [
        {
          "output_type": "stream",
          "name": "stdout",
          "text": [
            "KNeighborsClassifier(algorithm='auto', leaf_size=30, metric='minkowski',\n",
            "                     metric_params=None, n_jobs=None, n_neighbors=3, p=2,\n",
            "                     weights='uniform')\n",
            "KNeighborsClassifier(algorithm='auto', leaf_size=30, metric='minkowski',\n",
            "                     metric_params=None, n_jobs=None, n_neighbors=7, p=2,\n",
            "                     weights='uniform')\n"
          ]
        }
      ]
    },
    {
      "cell_type": "markdown",
      "metadata": {
        "id": "edxYW2BMU7dX"
      },
      "source": [
        "## 6) Test your trained classifiers on the Validation set\n",
        "Test your trained classifiers on the validation set and print the accuracies.\n"
      ]
    },
    {
      "cell_type": "code",
      "metadata": {
        "colab": {
          "base_uri": "https://localhost:8080/"
        },
        "id": "4udOsplrU7dY",
        "outputId": "bbf352ef-5331-45fe-e176-8360c01e1e2d"
      },
      "source": [
        "from sklearn.metrics import accuracy_score\n",
        "\n",
        "# Use misclassification rate as error measure\n",
        "\n",
        "#decision tree evaluations\n",
        "ypred_val_dt1=dt_1.predict(xvalid)\n",
        "print(\"accuracy score dt1(maxdepth 10 min_sample_split 100):\",accuracy_score(yvalid,ypred_val_dt1))\n",
        "print(\"misclassification rate dt1:\", 1-accuracy_score(yvalid,ypred_val_dt1) )\n",
        "print(\"\")\n",
        "\n",
        "ypred_val_dt2=dt_2.predict(xvalid)\n",
        "print(\"accuracy score dt2(maxdepth 10 min_sample_split 200):\",accuracy_score(yvalid,ypred_val_dt2))\n",
        "print(\"misclassification rate dt2:\", 1-accuracy_score(yvalid,ypred_val_dt2) )\n",
        "print(\"\")\n",
        "\n",
        "ypred_val_dt3=dt_3.predict(xvalid)\n",
        "print(\"accuracy score dt3(maxdepth 20 min_sample_split 100):\",accuracy_score(yvalid,ypred_val_dt3))\n",
        "print(\"misclassification rate dt3:\", 1-accuracy_score(yvalid,ypred_val_dt3) )\n",
        "print(\"\")\n",
        "\n",
        "ypred_val_dt4=dt_4.predict(xvalid)\n",
        "print(\"accuracy score dt3(maxdepth 20 min_sample_split 200):\",accuracy_score(yvalid,ypred_val_dt4))\n",
        "print(\"misclassification rate dt4:\", 1-accuracy_score(yvalid,ypred_val_dt4) )\n",
        "print(\"\")\n"
      ],
      "execution_count": null,
      "outputs": [
        {
          "output_type": "stream",
          "name": "stdout",
          "text": [
            "accuracy score dt1(maxdepth 10 min_sample_split 100): 0.835\n",
            "misclassification rate dt1: 0.16500000000000004\n",
            "\n",
            "accuracy score dt2(maxdepth 10 min_sample_split 200): 0.8125\n",
            "misclassification rate dt2: 0.1875\n",
            "\n",
            "accuracy score dt3(maxdepth 20 min_sample_split 100): 0.84\n",
            "misclassification rate dt3: 0.16000000000000003\n",
            "\n",
            "accuracy score dt3(maxdepth 20 min_sample_split 200): 0.8139166666666666\n",
            "misclassification rate dt4: 0.18608333333333338\n",
            "\n"
          ]
        }
      ]
    },
    {
      "cell_type": "code",
      "metadata": {
        "colab": {
          "base_uri": "https://localhost:8080/"
        },
        "id": "gNZvLypftxUV",
        "outputId": "f7148e9d-fc28-42cf-f151-5ec1e42fdea8"
      },
      "source": [
        "#knn evaluations\n",
        "ypred_val_knn1=knn_1.predict(xvalid)\n",
        "print(\"accuracy score knn1 (k=3):\",accuracy_score(yvalid,ypred_val_knn1))\n",
        "print(\"misclassification rate knn1:\", 1-accuracy_score(yvalid,ypred_val_knn1) )\n",
        "print(\"\")\n",
        "\n",
        "ypred_val_knn2=knn_2.predict(xvalid)\n",
        "print(\"accuracy score knn1 (k=7):\",accuracy_score(yvalid,ypred_val_knn2))\n",
        "print(\"misclassification rate knn2:\", 1-accuracy_score(yvalid,ypred_val_knn2) )"
      ],
      "execution_count": null,
      "outputs": [
        {
          "output_type": "stream",
          "name": "stdout",
          "text": [
            "accuracy score knn1 (k=3): 0.97175\n",
            "misclassification rate knn1: 0.028249999999999997\n",
            "\n",
            "accuracy score knn1 (k=7): 0.96925\n",
            "misclassification rate knn2: 0.030750000000000055\n"
          ]
        }
      ]
    },
    {
      "cell_type": "markdown",
      "metadata": {
        "id": "yWTPBT8PU7dZ"
      },
      "source": [
        "## 7) Test your classifier on Test set\n",
        "\n",
        "- Load test data\n",
        "- Apply same pre-processing as training data (probably none)\n",
        "- Predict the labels of testing data **using the best model that you have selected according to your validation results** and report the accuracy. "
      ]
    },
    {
      "cell_type": "code",
      "metadata": {
        "colab": {
          "base_uri": "https://localhost:8080/"
        },
        "id": "xbok_U-dU7da",
        "outputId": "00e4e5a0-f02d-4ec6-cce9-617dc5613696"
      },
      "source": [
        "from sklearn.metrics import accuracy_score\n",
        "# Load test data\n",
        "\n",
        "# Predict\n",
        "\n",
        "#best classifier is the knn with k=3.\n",
        "\n",
        "ytestpred_val_knn1=knn_1.predict(Normalized_X_test)\n",
        "print(\"accuracy score knn1 (k=3):\",accuracy_score(y_test,ytestpred_val_knn1))\n",
        "\n",
        "# Report your result\n"
      ],
      "execution_count": null,
      "outputs": [
        {
          "output_type": "stream",
          "name": "stdout",
          "text": [
            "accuracy score knn1 (k=3): 0.9678\n"
          ]
        }
      ]
    },
    {
      "cell_type": "markdown",
      "metadata": {
        "id": "gNImsEgKU7db"
      },
      "source": [
        "##8) Report Your Results\n",
        "\n",
        "**Notebook should be RUN:** As training and testing may take a long time, we may just look at your notebook results; so make sure **each cell is run**, so outputs are there.\n",
        "\n",
        "**Report:** Write an **one page summary** of your approach to this problem **below**; this should be like an abstract of a paper or the executive summary (you aim for clarity and passing on information, not going to details about known facts such as what kNN is or what MNIST is, assuming they are known to people in your research area). \n",
        "\n",
        "**Must include statements such as those below:**\n",
        "**(Remove the text in parentheses, below, and include your own report)**\n",
        "\n",
        "   In this homework, it is aimed to train decision tree and KNN classifiers with different meta-parameters by using MNIST dataset and choose the one that get best results and examine it in test set of MNIST. In accordance with this goal, it is required to prepare the dataset for implementation (converting the dataset from 3d to 2d) and compare the performances of the models.\n",
        "   While loading the dataset, we get train (X_train and Y_train) and test (X_test and y_test) separately. Firstly, we have to normalize the training dataset, and then shuffle them.  It is chosen to use 80% of the training dataset as train and remaining part (20%) is used for validation. This task is performed by using train_test_split which is a function that belongs to sklearn.\n",
        "   \n",
        " max depth \\min sample split  | min sample split=100|min sample split=200\n",
        "-------------------|-------------------|-------------------\n",
        "max depth=10       | 0.835     | 0.8125\n",
        "max depth=20       | 0.84     |0.8139\n",
        "\n",
        "* Decision tree classifiers with different meta-parameters accuracy scores\n",
        "\n",
        "k=3 | k=7\n",
        "-------------------|------------------\n",
        "0.97175      | 0.9692  \n",
        "\n",
        "* KNN with different K values accuracy scores\n",
        "\n",
        "\n",
        "   Among all decision trees that are trained, the decision tree with a max depth of 20 and min sample split of 100 gave the highest accuracy value in comparison to others. Among KNN models that are trained, the one with k=3 gives the best result.  The most successful model in validation is KNN with k=3.\n",
        "  The best result in the validation set is obtained with KNN approach using k=3 which is the number of nearest neighbors that include voting process. Since the models are trained with normalized data, the test set also is normalized before using it. The knn model with k=3 gives 96% accuracy on the test data.\n",
        "   In terms of speed, KNN was obviously slow compared to decision tree. Confusion matrix is formed by comparing y_test and prediction results of KNN. On the left you can see the matrix version of the confusion matrix, and on the right you can see the graph of the confusion matrix created with seaborn.\n",
        "\n",
        "\n",
        "\n"
      ]
    },
    {
      "cell_type": "code",
      "metadata": {
        "colab": {
          "base_uri": "https://localhost:8080/"
        },
        "id": "hHorBsOuGuuU",
        "outputId": "363b02f1-7531-43b6-9b66-899a4cf20cbb"
      },
      "source": [
        "#confusion matrix for the best model that gives best accuracy in validation\n",
        "#knn k=3\n",
        "from sklearn.metrics import confusion_matrix\n",
        "print(confusion_matrix(y_test, ytestpred_val_knn1))\n"
      ],
      "execution_count": null,
      "outputs": [
        {
          "output_type": "stream",
          "name": "stdout",
          "text": [
            "[[ 975    1    1    0    0    1    1    1    0    0]\n",
            " [   0 1130    2    1    0    0    2    0    0    0]\n",
            " [  10    9  992    2    1    0    1   15    2    0]\n",
            " [   0    1    4  977    1   13    1    6    4    3]\n",
            " [   2    7    0    0  943    0    4    3    0   23]\n",
            " [   5    1    0   14    2  859    4    2    1    4]\n",
            " [   7    3    0    0    3    3  941    0    1    0]\n",
            " [   0   24    4    0    3    0    0  988    0    9]\n",
            " [   8    2    5   17    7   12    4    6  908    5]\n",
            " [   5    7    2    7   10    2    1    8    2  965]]\n"
          ]
        }
      ]
    },
    {
      "cell_type": "code",
      "metadata": {
        "colab": {
          "base_uri": "https://localhost:8080/",
          "height": 279
        },
        "id": "KkfB8vPqHX66",
        "outputId": "27edb164-f0ae-4a5d-84bc-52fd2f6e0b5a"
      },
      "source": [
        "import pandas as pd\n",
        "import seaborn as sn\n",
        "import matplotlib.pyplot as plt\n",
        "#confusion matrix for the best model that gives best accuracy in validation with visual graph\n",
        "#knn k=3\n",
        "data = {'y_Actual':   y_test,\n",
        "        'y_Predicted': ytestpred_val_knn1\n",
        "        }\n",
        "\n",
        "\n",
        "df = pd.DataFrame(data, columns=['y_Actual','y_Predicted'])\n",
        "confusion_matrix = pd.crosstab(df['y_Actual'], df['y_Predicted'], rownames=['Actual'], colnames=['Predicted'])\n",
        "\n",
        "sn.heatmap(confusion_matrix, annot=True)\n",
        "plt.show()"
      ],
      "execution_count": null,
      "outputs": [
        {
          "output_type": "display_data",
          "data": {
            "image/png": "[encoded data removed]",
            "text/plain": [
              "<Figure size 432x288 with 2 Axes>"
            ]
          },
          "metadata": {
            "needs_background": "light"
          }
        }
      ]
    }
  ]
}