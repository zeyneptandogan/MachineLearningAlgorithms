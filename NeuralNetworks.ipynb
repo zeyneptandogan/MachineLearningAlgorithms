{
  "nbformat": 4,
  "nbformat_minor": 0,
  "metadata": {
    "colab": {
      "name": "hw2-CS412-zeyneptandogan.ipynb",
      "provenance": [],
      "collapsed_sections": []
    },
    "kernelspec": {
      "name": "python3",
      "display_name": "Python 3"
    },
    "language_info": {
      "name": "python"
    },
    "accelerator": "GPU"
  },
  "cells": [
    {
      "cell_type": "markdown",
      "metadata": {
        "id": "vMzUXgel6No1"
      },
      "source": [
        "# CS412 - Machine Learning - 2021\n",
        "## Homework 2\n",
        "100 pts\n",
        "\n",
        "\n",
        "## Goal\n",
        "\n",
        "The goal of this homework is two-fold:\n",
        "\n",
        "*   Gain experience with neural network approaches\n",
        "*   Gain experience with the Keras library\n",
        "\n",
        "## Dataset\n",
        "You are going to use a house price dataset that we prepared for you, that contains four independent variables (predictors) and one target variable. The task is predicting the target variable (house price) from the predictors (house attributes).\n",
        "\n",
        "\n",
        "Download the data from SuCourse. Reserve 10% of the training data for validation and use the rest for development (learning your models). The official test data we provide (1,200 samples) should only be used for testing at the end, and not model selection.\n",
        "\n",
        "## Task \n",
        "Build a regressor with a neural network that has only one hidden layer, using the Keras library function calls to predict house prices in the provided dataset.\n",
        "\n",
        "Your code should follow the given skeleton and try the indicated parameters.\n",
        "\n",
        "## Preprocessing and Meta-parameters\n",
        "You should try 10,50 and 100 as hidden node count. \n",
        "\n",
        "You should  decide on the learning rate (step size), you can try values such as 0.001, 0.01, 0.1, but you may need to increase if learning is very slow or decrease if you see the loss increase!\n",
        "\n",
        "You can use either sigmoid or Relu activations for the hidden nodes (indicate with your results) and you should know what to use for the activation for the output layer, input, output layer sizes, and the suitable loss function. \n",
        "\n",
        "## Software: \n",
        "\n",
        "Keras is a library that we will use especially for deep learning, but also with basic neural network functionality of course.\n",
        "\n",
        "You may find the necessary function references here: \n",
        "\n",
        "http://scikit-learn.org/stable/supervised_learning.html\n",
        "https://keras.io/api/\n",
        "\n",
        "When you search for Dense for instance, you should find the relevant function and explained parameters, easily.\n",
        "\n",
        "## Submission: \n",
        "\n",
        "Fill this notebook. Write the report section at the end.\n",
        "\n",
        "You should prepare a separate pdf document as your homework (name hw1-CS412-yourname.pdf) which consists of the report (Part 8) of the notebook for easy viewing -and- include a link to your notebook from within the pdf report (make sure to include the link obtained from the #share link on top right, **be sure to share with Sabancı University first** as otherwise there will be access problems.). "
      ]
    },
    {
      "cell_type": "markdown",
      "metadata": {
        "id": "cBtSa7Pc8tCn"
      },
      "source": [
        "##1) Initialize\n",
        "\n",
        "*   First make a copy of the notebook given to you as a starter.\n",
        "\n",
        "*   Make sure you choose Connect form upper right.\n"
      ]
    },
    {
      "cell_type": "markdown",
      "metadata": {
        "id": "hFNmGxqa9G2O"
      },
      "source": [
        "## 2) Load training dataset\n",
        "\n",
        "* Load the datasets (train.csv, test.csv) provided on SuCourse on your Google drive and read the datasets using Google Drive's mount functions. \n",
        "You may find the necessary functions here: \n",
        "https://colab.research.google.com/notebooks/io.ipynb"
      ]
    },
    {
      "cell_type": "code",
      "metadata": {
        "id": "nza2i-JK92eu",
        "colab": {
          "base_uri": "https://localhost:8080/"
        },
        "outputId": "0dea5d39-81b0-492d-be58-6f737eada736"
      },
      "source": [
        "from google.colab import drive\n",
        "drive.mount('/content/drive/') \n",
        "# click on the url that pops up and give the necessary authorizations"
      ],
      "execution_count": null,
      "outputs": [
        {
          "output_type": "stream",
          "name": "stdout",
          "text": [
            "Mounted at /content/drive/\n"
          ]
        }
      ]
    },
    {
      "cell_type": "code",
      "metadata": {
        "colab": {
          "base_uri": "https://localhost:8080/"
        },
        "id": "naOi1_0YQz8x",
        "outputId": "3ed63035-6a07-4dec-baaf-57379c78be89"
      },
      "source": [
        "ls"
      ],
      "execution_count": null,
      "outputs": [
        {
          "output_type": "stream",
          "name": "stdout",
          "text": [
            "\u001b[0m\u001b[01;34mdrive\u001b[0m/  \u001b[01;34msample_data\u001b[0m/\n"
          ]
        }
      ]
    },
    {
      "cell_type": "markdown",
      "metadata": {
        "id": "s9P--030AOoK"
      },
      "source": [
        "\n",
        "\n",
        "*   Set your notebooks working directory to the path where the datasets are uploaded (cd is the linux command for change directory) \n",
        "*   You may need to use cd drive/MyDrive depending on your path to the datasets on Google Drive. (don't comment the code in the cells when using linux commands)\n",
        "\n",
        "\n",
        "\n",
        "\n"
      ]
    },
    {
      "cell_type": "code",
      "metadata": {
        "id": "lplqod5D_cf1",
        "colab": {
          "base_uri": "https://localhost:8080/"
        },
        "outputId": "ec2b4983-97c4-4000-ab8c-1f5bc82ef63a"
      },
      "source": [
        "cd drive/My\\ Drive/cs412-hw2"
      ],
      "execution_count": null,
      "outputs": [
        {
          "output_type": "stream",
          "name": "stdout",
          "text": [
            "/content/drive/My Drive/cs412-hw2\n"
          ]
        }
      ]
    },
    {
      "cell_type": "markdown",
      "metadata": {
        "id": "IfMT3IgEAugF"
      },
      "source": [
        "* List the files in the current directory."
      ]
    },
    {
      "cell_type": "code",
      "metadata": {
        "id": "aoopxfoX-VOq",
        "colab": {
          "base_uri": "https://localhost:8080/"
        },
        "outputId": "9e1b24c8-288c-4838-c927-0e529ab252d9"
      },
      "source": [
        "ls"
      ],
      "execution_count": null,
      "outputs": [
        {
          "output_type": "stream",
          "name": "stdout",
          "text": [
            "test.csv  train.csv\n"
          ]
        }
      ]
    },
    {
      "cell_type": "markdown",
      "metadata": {
        "id": "fZh3Y5AlBHAs"
      },
      "source": [
        "##3) Understanding the dataset\n",
        "\n",
        "There are alot of functions that can be used to know more about this dataset\n",
        "\n",
        "- What is the shape of the training set (num of samples X number of attributes) ***[shape function can be used]***\n",
        "\n",
        "- Display attribute names ***[columns function can be used]***\n",
        "\n",
        "- Display the first 5 rows from training dataset ***[head or sample functions can be used]***\n",
        "\n",
        ".."
      ]
    },
    {
      "cell_type": "code",
      "metadata": {
        "id": "658e2be2",
        "colab": {
          "base_uri": "https://localhost:8080/",
          "height": 358
        },
        "outputId": "81b82534-176a-4e67-cbf6-1f89f664177d"
      },
      "source": [
        "# import the necessary libraries\n",
        "import numpy as np\n",
        "import pandas as pd\n",
        "import matplotlib.pyplot as plt\n",
        "\n",
        "train_df = pd.read_csv(\"train.csv\")\n",
        "# show first 10 elements of the training data\n",
        "train_df.head(10)"
      ],
      "execution_count": null,
      "outputs": [
        {
          "output_type": "execute_result",
          "data": {
            "text/html": [
              "<div>\n",
              "<style scoped>\n",
              "    .dataframe tbody tr th:only-of-type {\n",
              "        vertical-align: middle;\n",
              "    }\n",
              "\n",
              "    .dataframe tbody tr th {\n",
              "        vertical-align: top;\n",
              "    }\n",
              "\n",
              "    .dataframe thead th {\n",
              "        text-align: right;\n",
              "    }\n",
              "</style>\n",
              "<table border=\"1\" class=\"dataframe\">\n",
              "  <thead>\n",
              "    <tr style=\"text-align: right;\">\n",
              "      <th></th>\n",
              "      <th>sqmtrs</th>\n",
              "      <th>nrooms</th>\n",
              "      <th>view</th>\n",
              "      <th>crime_rate</th>\n",
              "      <th>price</th>\n",
              "    </tr>\n",
              "  </thead>\n",
              "  <tbody>\n",
              "    <tr>\n",
              "      <th>0</th>\n",
              "      <td>251</td>\n",
              "      <td>5</td>\n",
              "      <td>west</td>\n",
              "      <td>low</td>\n",
              "      <td>925701.721399</td>\n",
              "    </tr>\n",
              "    <tr>\n",
              "      <th>1</th>\n",
              "      <td>211</td>\n",
              "      <td>3</td>\n",
              "      <td>west</td>\n",
              "      <td>high</td>\n",
              "      <td>622237.482636</td>\n",
              "    </tr>\n",
              "    <tr>\n",
              "      <th>2</th>\n",
              "      <td>128</td>\n",
              "      <td>5</td>\n",
              "      <td>east</td>\n",
              "      <td>low</td>\n",
              "      <td>694998.182376</td>\n",
              "    </tr>\n",
              "    <tr>\n",
              "      <th>3</th>\n",
              "      <td>178</td>\n",
              "      <td>3</td>\n",
              "      <td>east</td>\n",
              "      <td>high</td>\n",
              "      <td>564689.015926</td>\n",
              "    </tr>\n",
              "    <tr>\n",
              "      <th>4</th>\n",
              "      <td>231</td>\n",
              "      <td>3</td>\n",
              "      <td>west</td>\n",
              "      <td>low</td>\n",
              "      <td>811222.970379</td>\n",
              "    </tr>\n",
              "    <tr>\n",
              "      <th>5</th>\n",
              "      <td>253</td>\n",
              "      <td>5</td>\n",
              "      <td>north</td>\n",
              "      <td>high</td>\n",
              "      <td>766250.032506</td>\n",
              "    </tr>\n",
              "    <tr>\n",
              "      <th>6</th>\n",
              "      <td>101</td>\n",
              "      <td>1</td>\n",
              "      <td>north</td>\n",
              "      <td>low</td>\n",
              "      <td>512749.401548</td>\n",
              "    </tr>\n",
              "    <tr>\n",
              "      <th>7</th>\n",
              "      <td>242</td>\n",
              "      <td>1</td>\n",
              "      <td>north</td>\n",
              "      <td>high</td>\n",
              "      <td>637010.760148</td>\n",
              "    </tr>\n",
              "    <tr>\n",
              "      <th>8</th>\n",
              "      <td>174</td>\n",
              "      <td>5</td>\n",
              "      <td>west</td>\n",
              "      <td>high</td>\n",
              "      <td>638136.374869</td>\n",
              "    </tr>\n",
              "    <tr>\n",
              "      <th>9</th>\n",
              "      <td>328</td>\n",
              "      <td>2</td>\n",
              "      <td>south</td>\n",
              "      <td>high</td>\n",
              "      <td>787704.988273</td>\n",
              "    </tr>\n",
              "  </tbody>\n",
              "</table>\n",
              "</div>"
            ],
            "text/plain": [
              "   sqmtrs  nrooms   view crime_rate          price\n",
              "0     251       5   west        low  925701.721399\n",
              "1     211       3   west       high  622237.482636\n",
              "2     128       5   east        low  694998.182376\n",
              "3     178       3   east       high  564689.015926\n",
              "4     231       3   west        low  811222.970379\n",
              "5     253       5  north       high  766250.032506\n",
              "6     101       1  north        low  512749.401548\n",
              "7     242       1  north       high  637010.760148\n",
              "8     174       5   west       high  638136.374869\n",
              "9     328       2  south       high  787704.988273"
            ]
          },
          "metadata": {},
          "execution_count": 4
        }
      ]
    },
    {
      "cell_type": "code",
      "metadata": {
        "id": "12bbf0c6",
        "colab": {
          "base_uri": "https://localhost:8080/",
          "height": 349
        },
        "outputId": "df076b51-3eb5-4ed9-bc05-ac4339714225"
      },
      "source": [
        "# print the shape of data\n",
        "\n",
        "print(\"Data dimensionality is: \",train_df.shape)\n",
        "print(\"Attribute names: \",train_df.columns)\n",
        "# also give some statistics about the data like mean, standard deviation etc.\n",
        "\n",
        "print(\"Statistics:\")\n",
        "train_df.describe()\n"
      ],
      "execution_count": null,
      "outputs": [
        {
          "output_type": "stream",
          "name": "stdout",
          "text": [
            "Data dimensionality is:  (4800, 5)\n",
            "Attribute names:  Index(['sqmtrs', 'nrooms', 'view', 'crime_rate', 'price'], dtype='object')\n",
            "Statistics:\n"
          ]
        },
        {
          "output_type": "execute_result",
          "data": {
            "text/html": [
              "<div>\n",
              "<style scoped>\n",
              "    .dataframe tbody tr th:only-of-type {\n",
              "        vertical-align: middle;\n",
              "    }\n",
              "\n",
              "    .dataframe tbody tr th {\n",
              "        vertical-align: top;\n",
              "    }\n",
              "\n",
              "    .dataframe thead th {\n",
              "        text-align: right;\n",
              "    }\n",
              "</style>\n",
              "<table border=\"1\" class=\"dataframe\">\n",
              "  <thead>\n",
              "    <tr style=\"text-align: right;\">\n",
              "      <th></th>\n",
              "      <th>sqmtrs</th>\n",
              "      <th>nrooms</th>\n",
              "      <th>price</th>\n",
              "    </tr>\n",
              "  </thead>\n",
              "  <tbody>\n",
              "    <tr>\n",
              "      <th>count</th>\n",
              "      <td>4800.000000</td>\n",
              "      <td>4800.000000</td>\n",
              "      <td>4.800000e+03</td>\n",
              "    </tr>\n",
              "    <tr>\n",
              "      <th>mean</th>\n",
              "      <td>225.033542</td>\n",
              "      <td>2.983958</td>\n",
              "      <td>7.257570e+05</td>\n",
              "    </tr>\n",
              "    <tr>\n",
              "      <th>std</th>\n",
              "      <td>71.851436</td>\n",
              "      <td>1.421251</td>\n",
              "      <td>1.510411e+05</td>\n",
              "    </tr>\n",
              "    <tr>\n",
              "      <th>min</th>\n",
              "      <td>100.000000</td>\n",
              "      <td>1.000000</td>\n",
              "      <td>3.564985e+05</td>\n",
              "    </tr>\n",
              "    <tr>\n",
              "      <th>25%</th>\n",
              "      <td>163.000000</td>\n",
              "      <td>2.000000</td>\n",
              "      <td>6.179536e+05</td>\n",
              "    </tr>\n",
              "    <tr>\n",
              "      <th>50%</th>\n",
              "      <td>226.000000</td>\n",
              "      <td>3.000000</td>\n",
              "      <td>7.292999e+05</td>\n",
              "    </tr>\n",
              "    <tr>\n",
              "      <th>75%</th>\n",
              "      <td>287.000000</td>\n",
              "      <td>4.000000</td>\n",
              "      <td>8.389284e+05</td>\n",
              "    </tr>\n",
              "    <tr>\n",
              "      <th>max</th>\n",
              "      <td>349.000000</td>\n",
              "      <td>5.000000</td>\n",
              "      <td>1.076067e+06</td>\n",
              "    </tr>\n",
              "  </tbody>\n",
              "</table>\n",
              "</div>"
            ],
            "text/plain": [
              "            sqmtrs       nrooms         price\n",
              "count  4800.000000  4800.000000  4.800000e+03\n",
              "mean    225.033542     2.983958  7.257570e+05\n",
              "std      71.851436     1.421251  1.510411e+05\n",
              "min     100.000000     1.000000  3.564985e+05\n",
              "25%     163.000000     2.000000  6.179536e+05\n",
              "50%     226.000000     3.000000  7.292999e+05\n",
              "75%     287.000000     4.000000  8.389284e+05\n",
              "max     349.000000     5.000000  1.076067e+06"
            ]
          },
          "metadata": {},
          "execution_count": 5
        }
      ]
    },
    {
      "cell_type": "code",
      "metadata": {
        "colab": {
          "base_uri": "https://localhost:8080/",
          "height": 204
        },
        "id": "dxenpE1cUDed",
        "outputId": "186eb2be-e42d-44bd-ebf0-62b02383db9f"
      },
      "source": [
        "train_df.head()  #first 5 rows"
      ],
      "execution_count": null,
      "outputs": [
        {
          "output_type": "execute_result",
          "data": {
            "text/html": [
              "<div>\n",
              "<style scoped>\n",
              "    .dataframe tbody tr th:only-of-type {\n",
              "        vertical-align: middle;\n",
              "    }\n",
              "\n",
              "    .dataframe tbody tr th {\n",
              "        vertical-align: top;\n",
              "    }\n",
              "\n",
              "    .dataframe thead th {\n",
              "        text-align: right;\n",
              "    }\n",
              "</style>\n",
              "<table border=\"1\" class=\"dataframe\">\n",
              "  <thead>\n",
              "    <tr style=\"text-align: right;\">\n",
              "      <th></th>\n",
              "      <th>sqmtrs</th>\n",
              "      <th>nrooms</th>\n",
              "      <th>view</th>\n",
              "      <th>crime_rate</th>\n",
              "      <th>price</th>\n",
              "    </tr>\n",
              "  </thead>\n",
              "  <tbody>\n",
              "    <tr>\n",
              "      <th>0</th>\n",
              "      <td>251</td>\n",
              "      <td>5</td>\n",
              "      <td>west</td>\n",
              "      <td>low</td>\n",
              "      <td>925701.721399</td>\n",
              "    </tr>\n",
              "    <tr>\n",
              "      <th>1</th>\n",
              "      <td>211</td>\n",
              "      <td>3</td>\n",
              "      <td>west</td>\n",
              "      <td>high</td>\n",
              "      <td>622237.482636</td>\n",
              "    </tr>\n",
              "    <tr>\n",
              "      <th>2</th>\n",
              "      <td>128</td>\n",
              "      <td>5</td>\n",
              "      <td>east</td>\n",
              "      <td>low</td>\n",
              "      <td>694998.182376</td>\n",
              "    </tr>\n",
              "    <tr>\n",
              "      <th>3</th>\n",
              "      <td>178</td>\n",
              "      <td>3</td>\n",
              "      <td>east</td>\n",
              "      <td>high</td>\n",
              "      <td>564689.015926</td>\n",
              "    </tr>\n",
              "    <tr>\n",
              "      <th>4</th>\n",
              "      <td>231</td>\n",
              "      <td>3</td>\n",
              "      <td>west</td>\n",
              "      <td>low</td>\n",
              "      <td>811222.970379</td>\n",
              "    </tr>\n",
              "  </tbody>\n",
              "</table>\n",
              "</div>"
            ],
            "text/plain": [
              "   sqmtrs  nrooms  view crime_rate          price\n",
              "0     251       5  west        low  925701.721399\n",
              "1     211       3  west       high  622237.482636\n",
              "2     128       5  east        low  694998.182376\n",
              "3     178       3  east       high  564689.015926\n",
              "4     231       3  west        low  811222.970379"
            ]
          },
          "metadata": {},
          "execution_count": 6
        }
      ]
    },
    {
      "cell_type": "code",
      "metadata": {
        "colab": {
          "base_uri": "https://localhost:8080/"
        },
        "id": "wewpRH8FWCOU",
        "outputId": "fb852a30-1d88-4759-a120-04392ddb9d48"
      },
      "source": [
        "train_df['nrooms'].value_counts()"
      ],
      "execution_count": null,
      "outputs": [
        {
          "output_type": "execute_result",
          "data": {
            "text/plain": [
              "2    991\n",
              "5    976\n",
              "1    973\n",
              "3    952\n",
              "4    908\n",
              "Name: nrooms, dtype: int64"
            ]
          },
          "metadata": {},
          "execution_count": 7
        }
      ]
    },
    {
      "cell_type": "code",
      "metadata": {
        "colab": {
          "base_uri": "https://localhost:8080/"
        },
        "id": "4y9URZ3eW0Dn",
        "outputId": "a984d4d3-ccc6-402a-cc4e-dba072f73af7"
      },
      "source": [
        "train_df['sqmtrs'].value_counts()"
      ],
      "execution_count": null,
      "outputs": [
        {
          "output_type": "execute_result",
          "data": {
            "text/plain": [
              "107    32\n",
              "240    31\n",
              "212    31\n",
              "328    30\n",
              "116    30\n",
              "       ..\n",
              "142    10\n",
              "170    10\n",
              "329     9\n",
              "117     9\n",
              "176     9\n",
              "Name: sqmtrs, Length: 250, dtype: int64"
            ]
          },
          "metadata": {},
          "execution_count": 8
        }
      ]
    },
    {
      "cell_type": "code",
      "metadata": {
        "colab": {
          "base_uri": "https://localhost:8080/"
        },
        "id": "UirXHQKxW4Aj",
        "outputId": "c1f449a8-b5e0-419e-d1c3-d0a236b27854"
      },
      "source": [
        "train_df['price'].value_counts()"
      ],
      "execution_count": null,
      "outputs": [
        {
          "output_type": "execute_result",
          "data": {
            "text/plain": [
              "8.008052e+05    1\n",
              "5.957551e+05    1\n",
              "5.357551e+05    1\n",
              "6.171843e+05    1\n",
              "1.048316e+06    1\n",
              "               ..\n",
              "5.659009e+05    1\n",
              "9.021545e+05    1\n",
              "5.362886e+05    1\n",
              "5.813591e+05    1\n",
              "1.024339e+06    1\n",
              "Name: price, Length: 4800, dtype: int64"
            ]
          },
          "metadata": {},
          "execution_count": 9
        }
      ]
    },
    {
      "cell_type": "code",
      "metadata": {
        "colab": {
          "base_uri": "https://localhost:8080/"
        },
        "id": "omcBNL7tW73I",
        "outputId": "d7e414d3-056a-4b9e-b3c5-784c57276c07"
      },
      "source": [
        "train_df['view'].value_counts()   #categorical"
      ],
      "execution_count": null,
      "outputs": [
        {
          "output_type": "execute_result",
          "data": {
            "text/plain": [
              "east     1252\n",
              "south    1212\n",
              "north    1204\n",
              "west     1132\n",
              "Name: view, dtype: int64"
            ]
          },
          "metadata": {},
          "execution_count": 10
        }
      ]
    },
    {
      "cell_type": "code",
      "metadata": {
        "colab": {
          "base_uri": "https://localhost:8080/"
        },
        "id": "tW2EaYgSXCd0",
        "outputId": "808a5ee1-ffd0-49fe-d396-b7194a58b76c"
      },
      "source": [
        "train_df['crime_rate'].value_counts() #categorical"
      ],
      "execution_count": null,
      "outputs": [
        {
          "output_type": "execute_result",
          "data": {
            "text/plain": [
              "high    2406\n",
              "low     2394\n",
              "Name: crime_rate, dtype: int64"
            ]
          },
          "metadata": {},
          "execution_count": 11
        }
      ]
    },
    {
      "cell_type": "markdown",
      "metadata": {
        "id": "GtBJzQ6NB1Kz"
      },
      "source": [
        "##4) Preprocessing Steps\n",
        "\n",
        "As some of the features (predictive variables) on this dataset are categorical (non-numeric) you need to do some preprocessing for those features.\n",
        "\n",
        "Please read 7-features.pdf under SuCourse for converting categorical variables to dummy variables. You can use as many **dummy or indicator variables** as there are categories within one feature. You can also look at pandas' get_dummies or keras.utils.to_categorical functions.\n",
        "\n",
        "In neural networks, scaling of the features are important, because they affect the net input of a neuron as a whole. You should use **MinMax scaler** on sklearn for this task, which scales the variables between 0 and 1 on by default. (Remember that mean-squared error loss function tends to be extremely large with unscaled features.)\n"
      ]
    },
    {
      "cell_type": "code",
      "metadata": {
        "id": "b505bf7b",
        "colab": {
          "base_uri": "https://localhost:8080/",
          "height": 224
        },
        "outputId": "951c8eaf-5fa5-430f-e47b-71714d3491b5"
      },
      "source": [
        "# encode the categorical variables\n",
        "#select the categorical features that has more than or equal to 2 classes\n",
        "multi_label_features=['view','crime_rate']\n",
        "train_Scaled=pd.get_dummies(data=train_df,columns=multi_label_features)\n",
        "\n",
        "# scale the features between 0-1\n",
        "\n",
        "from sklearn.preprocessing import MinMaxScaler\n",
        "msc = MinMaxScaler()\n",
        "\n",
        "train_Scaled[['sqmtrs','nrooms','view_east','view_north','view_south','view_west','crime_rate_high','crime_rate_low']]=msc.fit_transform(train_Scaled[['sqmtrs','nrooms','view_east','view_north','view_south','view_west','crime_rate_high','crime_rate_low']])\n",
        "pd_train_Scaled_upd=pd.DataFrame(train_Scaled)\n",
        "pd_train_Scaled_upd.head()"
      ],
      "execution_count": null,
      "outputs": [
        {
          "output_type": "execute_result",
          "data": {
            "text/html": [
              "<div>\n",
              "<style scoped>\n",
              "    .dataframe tbody tr th:only-of-type {\n",
              "        vertical-align: middle;\n",
              "    }\n",
              "\n",
              "    .dataframe tbody tr th {\n",
              "        vertical-align: top;\n",
              "    }\n",
              "\n",
              "    .dataframe thead th {\n",
              "        text-align: right;\n",
              "    }\n",
              "</style>\n",
              "<table border=\"1\" class=\"dataframe\">\n",
              "  <thead>\n",
              "    <tr style=\"text-align: right;\">\n",
              "      <th></th>\n",
              "      <th>sqmtrs</th>\n",
              "      <th>nrooms</th>\n",
              "      <th>price</th>\n",
              "      <th>view_east</th>\n",
              "      <th>view_north</th>\n",
              "      <th>view_south</th>\n",
              "      <th>view_west</th>\n",
              "      <th>crime_rate_high</th>\n",
              "      <th>crime_rate_low</th>\n",
              "    </tr>\n",
              "  </thead>\n",
              "  <tbody>\n",
              "    <tr>\n",
              "      <th>0</th>\n",
              "      <td>0.606426</td>\n",
              "      <td>1.0</td>\n",
              "      <td>925701.721399</td>\n",
              "      <td>0.0</td>\n",
              "      <td>0.0</td>\n",
              "      <td>0.0</td>\n",
              "      <td>1.0</td>\n",
              "      <td>0.0</td>\n",
              "      <td>1.0</td>\n",
              "    </tr>\n",
              "    <tr>\n",
              "      <th>1</th>\n",
              "      <td>0.445783</td>\n",
              "      <td>0.5</td>\n",
              "      <td>622237.482636</td>\n",
              "      <td>0.0</td>\n",
              "      <td>0.0</td>\n",
              "      <td>0.0</td>\n",
              "      <td>1.0</td>\n",
              "      <td>1.0</td>\n",
              "      <td>0.0</td>\n",
              "    </tr>\n",
              "    <tr>\n",
              "      <th>2</th>\n",
              "      <td>0.112450</td>\n",
              "      <td>1.0</td>\n",
              "      <td>694998.182376</td>\n",
              "      <td>1.0</td>\n",
              "      <td>0.0</td>\n",
              "      <td>0.0</td>\n",
              "      <td>0.0</td>\n",
              "      <td>0.0</td>\n",
              "      <td>1.0</td>\n",
              "    </tr>\n",
              "    <tr>\n",
              "      <th>3</th>\n",
              "      <td>0.313253</td>\n",
              "      <td>0.5</td>\n",
              "      <td>564689.015926</td>\n",
              "      <td>1.0</td>\n",
              "      <td>0.0</td>\n",
              "      <td>0.0</td>\n",
              "      <td>0.0</td>\n",
              "      <td>1.0</td>\n",
              "      <td>0.0</td>\n",
              "    </tr>\n",
              "    <tr>\n",
              "      <th>4</th>\n",
              "      <td>0.526104</td>\n",
              "      <td>0.5</td>\n",
              "      <td>811222.970379</td>\n",
              "      <td>0.0</td>\n",
              "      <td>0.0</td>\n",
              "      <td>0.0</td>\n",
              "      <td>1.0</td>\n",
              "      <td>0.0</td>\n",
              "      <td>1.0</td>\n",
              "    </tr>\n",
              "  </tbody>\n",
              "</table>\n",
              "</div>"
            ],
            "text/plain": [
              "     sqmtrs  nrooms          price  ...  view_west  crime_rate_high  crime_rate_low\n",
              "0  0.606426     1.0  925701.721399  ...        1.0              0.0             1.0\n",
              "1  0.445783     0.5  622237.482636  ...        1.0              1.0             0.0\n",
              "2  0.112450     1.0  694998.182376  ...        0.0              0.0             1.0\n",
              "3  0.313253     0.5  564689.015926  ...        0.0              1.0             0.0\n",
              "4  0.526104     0.5  811222.970379  ...        1.0              0.0             1.0\n",
              "\n",
              "[5 rows x 9 columns]"
            ]
          },
          "metadata": {},
          "execution_count": 12
        }
      ]
    },
    {
      "cell_type": "code",
      "metadata": {
        "colab": {
          "base_uri": "https://localhost:8080/",
          "height": 224
        },
        "id": "bLpSVAMiEK22",
        "outputId": "079a1123-7af4-45ab-f223-3a5411a4300d"
      },
      "source": [
        "X=pd_train_Scaled_upd.drop(labels=['price'], axis=1)   #target is dropped\n",
        "X.head()\n"
      ],
      "execution_count": null,
      "outputs": [
        {
          "output_type": "execute_result",
          "data": {
            "text/html": [
              "<div>\n",
              "<style scoped>\n",
              "    .dataframe tbody tr th:only-of-type {\n",
              "        vertical-align: middle;\n",
              "    }\n",
              "\n",
              "    .dataframe tbody tr th {\n",
              "        vertical-align: top;\n",
              "    }\n",
              "\n",
              "    .dataframe thead th {\n",
              "        text-align: right;\n",
              "    }\n",
              "</style>\n",
              "<table border=\"1\" class=\"dataframe\">\n",
              "  <thead>\n",
              "    <tr style=\"text-align: right;\">\n",
              "      <th></th>\n",
              "      <th>sqmtrs</th>\n",
              "      <th>nrooms</th>\n",
              "      <th>view_east</th>\n",
              "      <th>view_north</th>\n",
              "      <th>view_south</th>\n",
              "      <th>view_west</th>\n",
              "      <th>crime_rate_high</th>\n",
              "      <th>crime_rate_low</th>\n",
              "    </tr>\n",
              "  </thead>\n",
              "  <tbody>\n",
              "    <tr>\n",
              "      <th>0</th>\n",
              "      <td>0.606426</td>\n",
              "      <td>1.0</td>\n",
              "      <td>0.0</td>\n",
              "      <td>0.0</td>\n",
              "      <td>0.0</td>\n",
              "      <td>1.0</td>\n",
              "      <td>0.0</td>\n",
              "      <td>1.0</td>\n",
              "    </tr>\n",
              "    <tr>\n",
              "      <th>1</th>\n",
              "      <td>0.445783</td>\n",
              "      <td>0.5</td>\n",
              "      <td>0.0</td>\n",
              "      <td>0.0</td>\n",
              "      <td>0.0</td>\n",
              "      <td>1.0</td>\n",
              "      <td>1.0</td>\n",
              "      <td>0.0</td>\n",
              "    </tr>\n",
              "    <tr>\n",
              "      <th>2</th>\n",
              "      <td>0.112450</td>\n",
              "      <td>1.0</td>\n",
              "      <td>1.0</td>\n",
              "      <td>0.0</td>\n",
              "      <td>0.0</td>\n",
              "      <td>0.0</td>\n",
              "      <td>0.0</td>\n",
              "      <td>1.0</td>\n",
              "    </tr>\n",
              "    <tr>\n",
              "      <th>3</th>\n",
              "      <td>0.313253</td>\n",
              "      <td>0.5</td>\n",
              "      <td>1.0</td>\n",
              "      <td>0.0</td>\n",
              "      <td>0.0</td>\n",
              "      <td>0.0</td>\n",
              "      <td>1.0</td>\n",
              "      <td>0.0</td>\n",
              "    </tr>\n",
              "    <tr>\n",
              "      <th>4</th>\n",
              "      <td>0.526104</td>\n",
              "      <td>0.5</td>\n",
              "      <td>0.0</td>\n",
              "      <td>0.0</td>\n",
              "      <td>0.0</td>\n",
              "      <td>1.0</td>\n",
              "      <td>0.0</td>\n",
              "      <td>1.0</td>\n",
              "    </tr>\n",
              "  </tbody>\n",
              "</table>\n",
              "</div>"
            ],
            "text/plain": [
              "     sqmtrs  nrooms  view_east  ...  view_west  crime_rate_high  crime_rate_low\n",
              "0  0.606426     1.0        0.0  ...        1.0              0.0             1.0\n",
              "1  0.445783     0.5        0.0  ...        1.0              1.0             0.0\n",
              "2  0.112450     1.0        1.0  ...        0.0              0.0             1.0\n",
              "3  0.313253     0.5        1.0  ...        0.0              1.0             0.0\n",
              "4  0.526104     0.5        0.0  ...        1.0              0.0             1.0\n",
              "\n",
              "[5 rows x 8 columns]"
            ]
          },
          "metadata": {},
          "execution_count": 13
        }
      ]
    },
    {
      "cell_type": "code",
      "metadata": {
        "colab": {
          "base_uri": "https://localhost:8080/",
          "height": 204
        },
        "id": "gI2p-iJ4GKTZ",
        "outputId": "899744f9-cb43-46d4-ee31-f4c973775c46"
      },
      "source": [
        "Y=pd_train_Scaled_upd[['price']]  #target\n",
        "Y.head()"
      ],
      "execution_count": null,
      "outputs": [
        {
          "output_type": "execute_result",
          "data": {
            "text/html": [
              "<div>\n",
              "<style scoped>\n",
              "    .dataframe tbody tr th:only-of-type {\n",
              "        vertical-align: middle;\n",
              "    }\n",
              "\n",
              "    .dataframe tbody tr th {\n",
              "        vertical-align: top;\n",
              "    }\n",
              "\n",
              "    .dataframe thead th {\n",
              "        text-align: right;\n",
              "    }\n",
              "</style>\n",
              "<table border=\"1\" class=\"dataframe\">\n",
              "  <thead>\n",
              "    <tr style=\"text-align: right;\">\n",
              "      <th></th>\n",
              "      <th>price</th>\n",
              "    </tr>\n",
              "  </thead>\n",
              "  <tbody>\n",
              "    <tr>\n",
              "      <th>0</th>\n",
              "      <td>925701.721399</td>\n",
              "    </tr>\n",
              "    <tr>\n",
              "      <th>1</th>\n",
              "      <td>622237.482636</td>\n",
              "    </tr>\n",
              "    <tr>\n",
              "      <th>2</th>\n",
              "      <td>694998.182376</td>\n",
              "    </tr>\n",
              "    <tr>\n",
              "      <th>3</th>\n",
              "      <td>564689.015926</td>\n",
              "    </tr>\n",
              "    <tr>\n",
              "      <th>4</th>\n",
              "      <td>811222.970379</td>\n",
              "    </tr>\n",
              "  </tbody>\n",
              "</table>\n",
              "</div>"
            ],
            "text/plain": [
              "           price\n",
              "0  925701.721399\n",
              "1  622237.482636\n",
              "2  694998.182376\n",
              "3  564689.015926\n",
              "4  811222.970379"
            ]
          },
          "metadata": {},
          "execution_count": 14
        }
      ]
    },
    {
      "cell_type": "markdown",
      "metadata": {
        "id": "nnSUvg-OK9FP"
      },
      "source": [
        "Don't forget the split the training data to obtain a validation set. **Use random_state=42**"
      ]
    },
    {
      "cell_type": "code",
      "metadata": {
        "id": "WufovdxNK8sI",
        "colab": {
          "base_uri": "https://localhost:8080/"
        },
        "outputId": "35f914c6-4810-4b75-fae2-7f7b8a44e1fe"
      },
      "source": [
        "# split 90-10\n",
        "from sklearn.model_selection import train_test_split\n",
        "xtrain,xvalid,ytrain,yvalid=train_test_split(X,Y,train_size=0.9,random_state=42)  #seperate validation and training\n",
        "print(xtrain.shape,xvalid.shape,ytrain.shape,yvalid.shape)"
      ],
      "execution_count": null,
      "outputs": [
        {
          "output_type": "stream",
          "name": "stdout",
          "text": [
            "(4320, 8) (480, 8) (4320, 1) (480, 1)\n"
          ]
        }
      ]
    },
    {
      "cell_type": "markdown",
      "metadata": {
        "id": "hU-_nQ4IFuR3"
      },
      "source": [
        "##5) Train neural networks on development data and do model selection using the validation data\n",
        "\n",
        "\n",
        "* Train a neural network with **one hidden layer** (try 3 different values for the number of neurons in that hidden layer, as 25, 50, 100), you will need to correctly choose the optimizer and the loss function that this model will train with. Use batch_size as 64 and train each model for 30 epochs. \n",
        "\n",
        "* Train another neural network with two hidden layers with meta-parameters of your choice. Again, use batch_size as 64 and train the model for 30 epochs. \n",
        "\n",
        "* **Bonus (5 pts)** Train a KNN or a Decision Tree model with your own choice of meta parameters to predict the house prices.\n"
      ]
    },
    {
      "cell_type": "code",
      "metadata": {
        "id": "YOvu_AjTPGg3"
      },
      "source": [
        "# train one-hidden layered neural networks\n",
        "# define your model architecture\n",
        "\n",
        "from keras import Sequential\n",
        "from keras.layers import Dense\n",
        "from tensorflow.keras.optimizers import Adam, SGD\n",
        "import time\n",
        "\n",
        "#models with # of hidden nodes=25 \n",
        "\n",
        "#0.1 learning rate\n",
        "model_hidden25_learning1=Sequential()\n",
        "model_hidden25_learning1.add(Dense(25, activation=\"relu\", input_shape=(8,)))\n",
        "model_hidden25_learning1.add(Dense(1, activation='linear')) #since it is a regression problem\n",
        "#model_hidden25_learning1.summary()\n",
        "\n",
        "#0.01 learning rate\n",
        "model_hidden25_learning01=Sequential()\n",
        "model_hidden25_learning01.add(Dense(25, activation=\"relu\", input_shape=(8,)))\n",
        "model_hidden25_learning01.add(Dense(1, activation='linear')) #since it is a regression problem\n",
        "#model_hidden25_learning01.summary()\n",
        "\n",
        "#0.001 learning rate\n",
        "model_hidden25_learning001=Sequential()\n",
        "model_hidden25_learning001.add(Dense(25, activation=\"relu\", input_shape=(8,)))\n",
        "model_hidden25_learning001.add(Dense(1, activation='linear')) #since it is a regression problem\n",
        "#model_hidden25_learning001.summary()\n"
      ],
      "execution_count": null,
      "outputs": []
    },
    {
      "cell_type": "code",
      "metadata": {
        "id": "nUP9xhCFPpHh"
      },
      "source": [
        "#models with # of hidden nodes=50 \n",
        "\n",
        "#0.1 learning rate\n",
        "model_hidden50_learning1=Sequential()\n",
        "model_hidden50_learning1.add(Dense(50, activation=\"relu\", input_shape=(8,)))\n",
        "model_hidden50_learning1.add(Dense(1, activation='linear')) #since it is a regression problem\n",
        "#model_hidden50_learning1.summary()\n",
        "\n",
        "#0.01 learning rate\n",
        "model_hidden50_learning01=Sequential()\n",
        "model_hidden50_learning01.add(Dense(50, activation=\"relu\", input_shape=(8,)))\n",
        "model_hidden50_learning01.add(Dense(1, activation='linear')) #since it is a regression problem\n",
        "#model_hidden50_learning01.summary()\n",
        "\n",
        "#0.001 learning rate\n",
        "model_hidden50_learning001=Sequential()\n",
        "model_hidden50_learning001.add(Dense(50, activation=\"relu\", input_shape=(8,)))\n",
        "model_hidden50_learning001.add(Dense(1, activation='linear')) #since it is a regression problem\n",
        "#model_hidden50_learning001.summary()"
      ],
      "execution_count": null,
      "outputs": []
    },
    {
      "cell_type": "code",
      "metadata": {
        "id": "zg2FbFpFP29y"
      },
      "source": [
        "#models with # of hidden nodes=100\n",
        "\n",
        "#0.1 learning rate\n",
        "model_hidden100_learning1=Sequential()\n",
        "model_hidden100_learning1.add(Dense(100, activation=\"relu\", input_shape=(8,)))\n",
        "model_hidden100_learning1.add(Dense(1, activation='linear')) #since it is a regression problem\n",
        "#model_hidden100_learning1.summary()\n",
        "\n",
        "#0.01 learning rate\n",
        "model_hidden100_learning01=Sequential()\n",
        "model_hidden100_learning01.add(Dense(100, activation=\"relu\", input_shape=(8,)))\n",
        "model_hidden100_learning01.add(Dense(1, activation='linear')) #since it is a regression problem\n",
        "#model_hidden100_learning01.summary()\n",
        "\n",
        "#0.001 learning rate\n",
        "model_hidden100_learning001=Sequential()\n",
        "model_hidden100_learning001.add(Dense(100, activation=\"relu\", input_shape=(8,)))\n",
        "model_hidden100_learning001.add(Dense(1, activation='linear')) #since it is a regression problem\n",
        "#model_hidden100_learning001.summary()"
      ],
      "execution_count": null,
      "outputs": []
    },
    {
      "cell_type": "code",
      "metadata": {
        "colab": {
          "base_uri": "https://localhost:8080/"
        },
        "id": "qmKte7M1QPOg",
        "outputId": "47b4c6b1-d098-43e2-efb3-a38b4074323c"
      },
      "source": [
        "# compile your model with an optimizer - learning rate 0.001\n",
        "adam_001 = Adam(learning_rate=0.001)\n",
        "\n",
        "start_time1 = time.time()\n",
        "model_hidden25_learning001.compile(optimizer = adam_001, loss = 'mean_squared_error', metrics=['accuracy'])\n",
        "# fit the model on training data\n",
        "model_hidden25_learning001.fit(xtrain, ytrain, batch_size=64, epochs=30,shuffle=True, verbose=1)\n",
        "print(\"execution time for model nodes=25 0.001 learning: \", time.time()-start_time1);"
      ],
      "execution_count": null,
      "outputs": [
        {
          "output_type": "stream",
          "name": "stdout",
          "text": [
            "Epoch 1/30\n",
            "68/68 [==============================] - 3s 4ms/step - loss: 550347866112.0000 - accuracy: 0.0000e+00\n",
            "Epoch 2/30\n",
            "68/68 [==============================] - 0s 4ms/step - loss: 550345703424.0000 - accuracy: 0.0000e+00\n",
            "Epoch 3/30\n",
            "68/68 [==============================] - 0s 4ms/step - loss: 550341574656.0000 - accuracy: 0.0000e+00\n",
            "Epoch 4/30\n",
            "68/68 [==============================] - 0s 4ms/step - loss: 550335217664.0000 - accuracy: 0.0000e+00\n",
            "Epoch 5/30\n",
            "68/68 [==============================] - 0s 4ms/step - loss: 550327091200.0000 - accuracy: 0.0000e+00\n",
            "Epoch 6/30\n",
            "68/68 [==============================] - 0s 4ms/step - loss: 550317129728.0000 - accuracy: 0.0000e+00\n",
            "Epoch 7/30\n",
            "68/68 [==============================] - 0s 3ms/step - loss: 550304940032.0000 - accuracy: 0.0000e+00\n",
            "Epoch 8/30\n",
            "68/68 [==============================] - 0s 4ms/step - loss: 550290849792.0000 - accuracy: 0.0000e+00\n",
            "Epoch 9/30\n",
            "68/68 [==============================] - 0s 4ms/step - loss: 550274531328.0000 - accuracy: 0.0000e+00\n",
            "Epoch 10/30\n",
            "68/68 [==============================] - 0s 4ms/step - loss: 550256771072.0000 - accuracy: 0.0000e+00\n",
            "Epoch 11/30\n",
            "68/68 [==============================] - 0s 4ms/step - loss: 550237044736.0000 - accuracy: 0.0000e+00\n",
            "Epoch 12/30\n",
            "68/68 [==============================] - 0s 4ms/step - loss: 550215680000.0000 - accuracy: 0.0000e+00\n",
            "Epoch 13/30\n",
            "68/68 [==============================] - 0s 4ms/step - loss: 550192807936.0000 - accuracy: 0.0000e+00\n",
            "Epoch 14/30\n",
            "68/68 [==============================] - 0s 4ms/step - loss: 550167969792.0000 - accuracy: 0.0000e+00\n",
            "Epoch 15/30\n",
            "68/68 [==============================] - 0s 4ms/step - loss: 550141886464.0000 - accuracy: 0.0000e+00\n",
            "Epoch 16/30\n",
            "68/68 [==============================] - 0s 4ms/step - loss: 550114164736.0000 - accuracy: 0.0000e+00\n",
            "Epoch 17/30\n",
            "68/68 [==============================] - 0s 4ms/step - loss: 550085001216.0000 - accuracy: 0.0000e+00\n",
            "Epoch 18/30\n",
            "68/68 [==============================] - 0s 3ms/step - loss: 550054199296.0000 - accuracy: 0.0000e+00\n",
            "Epoch 19/30\n",
            "68/68 [==============================] - 0s 4ms/step - loss: 550021824512.0000 - accuracy: 0.0000e+00\n",
            "Epoch 20/30\n",
            "68/68 [==============================] - 0s 4ms/step - loss: 549988270080.0000 - accuracy: 0.0000e+00\n",
            "Epoch 21/30\n",
            "68/68 [==============================] - 0s 3ms/step - loss: 549953142784.0000 - accuracy: 0.0000e+00\n",
            "Epoch 22/30\n",
            "68/68 [==============================] - 0s 4ms/step - loss: 549916901376.0000 - accuracy: 0.0000e+00\n",
            "Epoch 23/30\n",
            "68/68 [==============================] - 0s 3ms/step - loss: 549878890496.0000 - accuracy: 0.0000e+00\n",
            "Epoch 24/30\n",
            "68/68 [==============================] - 0s 4ms/step - loss: 549839831040.0000 - accuracy: 0.0000e+00\n",
            "Epoch 25/30\n",
            "68/68 [==============================] - 0s 4ms/step - loss: 549799460864.0000 - accuracy: 0.0000e+00\n",
            "Epoch 26/30\n",
            "68/68 [==============================] - 0s 4ms/step - loss: 549757714432.0000 - accuracy: 0.0000e+00\n",
            "Epoch 27/30\n",
            "68/68 [==============================] - 0s 4ms/step - loss: 549714755584.0000 - accuracy: 0.0000e+00\n",
            "Epoch 28/30\n",
            "68/68 [==============================] - 0s 4ms/step - loss: 549670420480.0000 - accuracy: 0.0000e+00\n",
            "Epoch 29/30\n",
            "68/68 [==============================] - 0s 4ms/step - loss: 549625135104.0000 - accuracy: 0.0000e+00\n",
            "Epoch 30/30\n",
            "68/68 [==============================] - 0s 4ms/step - loss: 549578407936.0000 - accuracy: 0.0000e+00\n",
            "execution time for model nodes=25 0.001 learning:  10.835812330245972\n"
          ]
        }
      ]
    },
    {
      "cell_type": "code",
      "metadata": {
        "colab": {
          "base_uri": "https://localhost:8080/"
        },
        "id": "ehCYeyKdQWaF",
        "outputId": "4b665fd8-f92e-4e3d-8bd3-323c991fbbc4"
      },
      "source": [
        "adam_001 = Adam(learning_rate=0.001)\n",
        "\n",
        "start_time2 = time.time()\n",
        "model_hidden50_learning001.compile(optimizer = adam_001, loss = 'mean_squared_error', metrics=['accuracy'])\n",
        "# fit the model on training data\n",
        "model_hidden50_learning001.fit(xtrain, ytrain, batch_size=64, epochs=30,shuffle=True, verbose=1)\n",
        "print(\"execution time for model nodes=50 0.001 learning: \", time.time()-start_time2);"
      ],
      "execution_count": null,
      "outputs": [
        {
          "output_type": "stream",
          "name": "stdout",
          "text": [
            "Epoch 1/30\n",
            "68/68 [==============================] - 1s 4ms/step - loss: 550347735040.0000 - accuracy: 0.0000e+00\n",
            "Epoch 2/30\n",
            "68/68 [==============================] - 0s 4ms/step - loss: 550343671808.0000 - accuracy: 0.0000e+00\n",
            "Epoch 3/30\n",
            "68/68 [==============================] - 0s 4ms/step - loss: 550335086592.0000 - accuracy: 0.0000e+00\n",
            "Epoch 4/30\n",
            "68/68 [==============================] - 0s 4ms/step - loss: 550321586176.0000 - accuracy: 0.0000e+00\n",
            "Epoch 5/30\n",
            "68/68 [==============================] - 0s 3ms/step - loss: 550302842880.0000 - accuracy: 0.0000e+00\n",
            "Epoch 6/30\n",
            "68/68 [==============================] - 0s 4ms/step - loss: 550278463488.0000 - accuracy: 0.0000e+00\n",
            "Epoch 7/30\n",
            "68/68 [==============================] - 0s 4ms/step - loss: 550248906752.0000 - accuracy: 0.0000e+00\n",
            "Epoch 8/30\n",
            "68/68 [==============================] - 0s 4ms/step - loss: 550214172672.0000 - accuracy: 0.0000e+00\n",
            "Epoch 9/30\n",
            "68/68 [==============================] - 0s 4ms/step - loss: 550174654464.0000 - accuracy: 0.0000e+00\n",
            "Epoch 10/30\n",
            "68/68 [==============================] - 0s 4ms/step - loss: 550130483200.0000 - accuracy: 0.0000e+00\n",
            "Epoch 11/30\n",
            "68/68 [==============================] - 0s 4ms/step - loss: 550082183168.0000 - accuracy: 0.0000e+00\n",
            "Epoch 12/30\n",
            "68/68 [==============================] - 0s 4ms/step - loss: 550029295616.0000 - accuracy: 0.0000e+00\n",
            "Epoch 13/30\n",
            "68/68 [==============================] - 0s 4ms/step - loss: 549972344832.0000 - accuracy: 0.0000e+00\n",
            "Epoch 14/30\n",
            "68/68 [==============================] - 0s 4ms/step - loss: 549911396352.0000 - accuracy: 0.0000e+00\n",
            "Epoch 15/30\n",
            "68/68 [==============================] - 0s 4ms/step - loss: 549846515712.0000 - accuracy: 0.0000e+00\n",
            "Epoch 16/30\n",
            "68/68 [==============================] - 0s 3ms/step - loss: 549777506304.0000 - accuracy: 0.0000e+00\n",
            "Epoch 17/30\n",
            "68/68 [==============================] - 0s 4ms/step - loss: 549704925184.0000 - accuracy: 0.0000e+00\n",
            "Epoch 18/30\n",
            "68/68 [==============================] - 0s 4ms/step - loss: 549628608512.0000 - accuracy: 0.0000e+00\n",
            "Epoch 19/30\n",
            "68/68 [==============================] - 0s 4ms/step - loss: 549548457984.0000 - accuracy: 0.0000e+00\n",
            "Epoch 20/30\n",
            "68/68 [==============================] - 0s 4ms/step - loss: 549464899584.0000 - accuracy: 0.0000e+00\n",
            "Epoch 21/30\n",
            "68/68 [==============================] - 0s 4ms/step - loss: 549377703936.0000 - accuracy: 0.0000e+00\n",
            "Epoch 22/30\n",
            "68/68 [==============================] - 0s 4ms/step - loss: 549287165952.0000 - accuracy: 0.0000e+00\n",
            "Epoch 23/30\n",
            "68/68 [==============================] - 0s 4ms/step - loss: 549193154560.0000 - accuracy: 0.0000e+00\n",
            "Epoch 24/30\n",
            "68/68 [==============================] - 0s 4ms/step - loss: 549095833600.0000 - accuracy: 0.0000e+00\n",
            "Epoch 25/30\n",
            "68/68 [==============================] - 0s 3ms/step - loss: 548995432448.0000 - accuracy: 0.0000e+00\n",
            "Epoch 26/30\n",
            "68/68 [==============================] - 0s 4ms/step - loss: 548891983872.0000 - accuracy: 0.0000e+00\n",
            "Epoch 27/30\n",
            "68/68 [==============================] - 0s 4ms/step - loss: 548784832512.0000 - accuracy: 0.0000e+00\n",
            "Epoch 28/30\n",
            "68/68 [==============================] - 0s 4ms/step - loss: 548674928640.0000 - accuracy: 0.0000e+00\n",
            "Epoch 29/30\n",
            "68/68 [==============================] - 0s 4ms/step - loss: 548562075648.0000 - accuracy: 0.0000e+00\n",
            "Epoch 30/30\n",
            "68/68 [==============================] - 0s 4ms/step - loss: 548446142464.0000 - accuracy: 0.0000e+00\n",
            "execution time for model nodes=50 0.001 learning:  8.306734800338745\n"
          ]
        }
      ]
    },
    {
      "cell_type": "code",
      "metadata": {
        "colab": {
          "base_uri": "https://localhost:8080/"
        },
        "id": "YUFFdhPOQn9c",
        "outputId": "dae92a15-d476-42f3-f8e4-6ebaf2f648d5"
      },
      "source": [
        "adam_001 = Adam(learning_rate=0.001)\n",
        "\n",
        "start_time3 = time.time()\n",
        "model_hidden100_learning001.compile(optimizer = adam_001, loss = 'mean_squared_error', metrics=['accuracy'])\n",
        "# fit the model on training data\n",
        "model_hidden100_learning001.fit(xtrain, ytrain, batch_size=64, epochs=30,shuffle=True, verbose=1)\n",
        "print(\"execution time for model nodes=100 0.001 learning: \", time.time()-start_time3);"
      ],
      "execution_count": null,
      "outputs": [
        {
          "output_type": "stream",
          "name": "stdout",
          "text": [
            "Epoch 1/30\n",
            "68/68 [==============================] - 1s 4ms/step - loss: 550347407360.0000 - accuracy: 0.0000e+00\n",
            "Epoch 2/30\n",
            "68/68 [==============================] - 0s 4ms/step - loss: 550340984832.0000 - accuracy: 0.0000e+00\n",
            "Epoch 3/30\n",
            "68/68 [==============================] - 0s 3ms/step - loss: 550326697984.0000 - accuracy: 0.0000e+00\n",
            "Epoch 4/30\n",
            "68/68 [==============================] - 0s 4ms/step - loss: 550303629312.0000 - accuracy: 0.0000e+00\n",
            "Epoch 5/30\n",
            "68/68 [==============================] - 0s 4ms/step - loss: 550270599168.0000 - accuracy: 0.0000e+00\n",
            "Epoch 6/30\n",
            "68/68 [==============================] - 0s 4ms/step - loss: 550228393984.0000 - accuracy: 0.0000e+00\n",
            "Epoch 7/30\n",
            "68/68 [==============================] - 0s 4ms/step - loss: 550177144832.0000 - accuracy: 0.0000e+00\n",
            "Epoch 8/30\n",
            "68/68 [==============================] - 0s 4ms/step - loss: 550117113856.0000 - accuracy: 0.0000e+00\n",
            "Epoch 9/30\n",
            "68/68 [==============================] - 0s 4ms/step - loss: 550048628736.0000 - accuracy: 0.0000e+00\n",
            "Epoch 10/30\n",
            "68/68 [==============================] - 0s 4ms/step - loss: 549972213760.0000 - accuracy: 0.0000e+00\n",
            "Epoch 11/30\n",
            "68/68 [==============================] - 0s 3ms/step - loss: 549887868928.0000 - accuracy: 0.0000e+00\n",
            "Epoch 12/30\n",
            "68/68 [==============================] - 0s 4ms/step - loss: 549796249600.0000 - accuracy: 0.0000e+00\n",
            "Epoch 13/30\n",
            "68/68 [==============================] - 0s 4ms/step - loss: 549697290240.0000 - accuracy: 0.0000e+00\n",
            "Epoch 14/30\n",
            "68/68 [==============================] - 0s 4ms/step - loss: 549591154688.0000 - accuracy: 0.0000e+00\n",
            "Epoch 15/30\n",
            "68/68 [==============================] - 0s 4ms/step - loss: 549476925440.0000 - accuracy: 0.0000e+00\n",
            "Epoch 16/30\n",
            "68/68 [==============================] - 0s 4ms/step - loss: 549355651072.0000 - accuracy: 0.0000e+00\n",
            "Epoch 17/30\n",
            "68/68 [==============================] - 0s 4ms/step - loss: 549227200512.0000 - accuracy: 0.0000e+00\n",
            "Epoch 18/30\n",
            "68/68 [==============================] - 0s 4ms/step - loss: 549092294656.0000 - accuracy: 0.0000e+00\n",
            "Epoch 19/30\n",
            "68/68 [==============================] - 0s 4ms/step - loss: 548950933504.0000 - accuracy: 0.0000e+00\n",
            "Epoch 20/30\n",
            "68/68 [==============================] - 0s 4ms/step - loss: 548803182592.0000 - accuracy: 0.0000e+00\n",
            "Epoch 21/30\n",
            "68/68 [==============================] - 0s 4ms/step - loss: 548649402368.0000 - accuracy: 0.0000e+00\n",
            "Epoch 22/30\n",
            "68/68 [==============================] - 0s 4ms/step - loss: 548489428992.0000 - accuracy: 0.0000e+00\n",
            "Epoch 23/30\n",
            "68/68 [==============================] - 0s 3ms/step - loss: 548323524608.0000 - accuracy: 0.0000e+00\n",
            "Epoch 24/30\n",
            "68/68 [==============================] - 0s 3ms/step - loss: 548151721984.0000 - accuracy: 0.0000e+00\n",
            "Epoch 25/30\n",
            "68/68 [==============================] - 0s 4ms/step - loss: 547974316032.0000 - accuracy: 0.0000e+00\n",
            "Epoch 26/30\n",
            "68/68 [==============================] - 0s 4ms/step - loss: 547791142912.0000 - accuracy: 0.0000e+00\n",
            "Epoch 27/30\n",
            "68/68 [==============================] - 0s 4ms/step - loss: 547602563072.0000 - accuracy: 0.0000e+00\n",
            "Epoch 28/30\n",
            "68/68 [==============================] - 0s 4ms/step - loss: 547408543744.0000 - accuracy: 0.0000e+00\n",
            "Epoch 29/30\n",
            "68/68 [==============================] - 0s 4ms/step - loss: 547209216000.0000 - accuracy: 0.0000e+00\n",
            "Epoch 30/30\n",
            "68/68 [==============================] - 0s 4ms/step - loss: 547004547072.0000 - accuracy: 0.0000e+00\n",
            "execution time for model nodes=100 0.001 learning:  10.74315857887268\n"
          ]
        }
      ]
    },
    {
      "cell_type": "code",
      "metadata": {
        "colab": {
          "base_uri": "https://localhost:8080/"
        },
        "id": "W8Dj7AmjQzht",
        "outputId": "4cb0a68a-f960-42b8-ef84-57de9660cb46"
      },
      "source": [
        "# compile your model with an optimizer - learning rate 0.01\n",
        "adam_01 = Adam(learning_rate=0.01)\n",
        "\n",
        "start_time1 = time.time()\n",
        "model_hidden25_learning01.compile(optimizer = adam_01, loss = 'mean_squared_error', metrics=['accuracy'])\n",
        "# fit the model on training data\n",
        "model_hidden25_learning01.fit(xtrain, ytrain, batch_size=64, epochs=30,shuffle=True, verbose=1)\n",
        "print(\"execution time for model nodes=25 0.01 learning: \", time.time()-start_time1);"
      ],
      "execution_count": null,
      "outputs": [
        {
          "output_type": "stream",
          "name": "stdout",
          "text": [
            "Epoch 1/30\n",
            "68/68 [==============================] - 1s 4ms/step - loss: 550322503680.0000 - accuracy: 0.0000e+00\n",
            "Epoch 2/30\n",
            "68/68 [==============================] - 0s 4ms/step - loss: 550132711424.0000 - accuracy: 0.0000e+00\n",
            "Epoch 3/30\n",
            "68/68 [==============================] - 0s 4ms/step - loss: 549693751296.0000 - accuracy: 0.0000e+00\n",
            "Epoch 4/30\n",
            "68/68 [==============================] - 0s 4ms/step - loss: 548996972544.0000 - accuracy: 0.0000e+00\n",
            "Epoch 5/30\n",
            "68/68 [==============================] - 0s 4ms/step - loss: 548051058688.0000 - accuracy: 0.0000e+00\n",
            "Epoch 6/30\n",
            "68/68 [==============================] - 0s 4ms/step - loss: 546861252608.0000 - accuracy: 0.0000e+00\n",
            "Epoch 7/30\n",
            "68/68 [==============================] - 0s 4ms/step - loss: 545436991488.0000 - accuracy: 0.0000e+00\n",
            "Epoch 8/30\n",
            "68/68 [==============================] - 0s 4ms/step - loss: 543784730624.0000 - accuracy: 0.0000e+00\n",
            "Epoch 9/30\n",
            "68/68 [==============================] - 0s 4ms/step - loss: 541912956928.0000 - accuracy: 0.0000e+00\n",
            "Epoch 10/30\n",
            "68/68 [==============================] - 0s 4ms/step - loss: 539828060160.0000 - accuracy: 0.0000e+00\n",
            "Epoch 11/30\n",
            "68/68 [==============================] - 0s 4ms/step - loss: 537541115904.0000 - accuracy: 0.0000e+00\n",
            "Epoch 12/30\n",
            "68/68 [==============================] - 0s 4ms/step - loss: 535054811136.0000 - accuracy: 0.0000e+00\n",
            "Epoch 13/30\n",
            "68/68 [==============================] - 0s 4ms/step - loss: 532380155904.0000 - accuracy: 0.0000e+00\n",
            "Epoch 14/30\n",
            "68/68 [==============================] - 0s 4ms/step - loss: 529518690304.0000 - accuracy: 0.0000e+00\n",
            "Epoch 15/30\n",
            "68/68 [==============================] - 0s 4ms/step - loss: 526482898944.0000 - accuracy: 0.0000e+00\n",
            "Epoch 16/30\n",
            "68/68 [==============================] - 0s 4ms/step - loss: 523274977280.0000 - accuracy: 0.0000e+00\n",
            "Epoch 17/30\n",
            "68/68 [==============================] - 0s 4ms/step - loss: 519906557952.0000 - accuracy: 0.0000e+00\n",
            "Epoch 18/30\n",
            "68/68 [==============================] - 0s 4ms/step - loss: 516380852224.0000 - accuracy: 0.0000e+00\n",
            "Epoch 19/30\n",
            "68/68 [==============================] - 0s 4ms/step - loss: 512704315392.0000 - accuracy: 0.0000e+00\n",
            "Epoch 20/30\n",
            "68/68 [==============================] - 0s 4ms/step - loss: 508881534976.0000 - accuracy: 0.0000e+00\n",
            "Epoch 21/30\n",
            "68/68 [==============================] - 0s 3ms/step - loss: 504917688320.0000 - accuracy: 0.0000e+00\n",
            "Epoch 22/30\n",
            "68/68 [==============================] - 0s 4ms/step - loss: 500821819392.0000 - accuracy: 0.0000e+00\n",
            "Epoch 23/30\n",
            "68/68 [==============================] - 0s 4ms/step - loss: 496596058112.0000 - accuracy: 0.0000e+00\n",
            "Epoch 24/30\n",
            "68/68 [==============================] - 0s 4ms/step - loss: 492248334336.0000 - accuracy: 0.0000e+00\n",
            "Epoch 25/30\n",
            "68/68 [==============================] - 0s 4ms/step - loss: 487785037824.0000 - accuracy: 0.0000e+00\n",
            "Epoch 26/30\n",
            "68/68 [==============================] - 0s 4ms/step - loss: 483209084928.0000 - accuracy: 0.0000e+00\n",
            "Epoch 27/30\n",
            "68/68 [==============================] - 0s 4ms/step - loss: 478530240512.0000 - accuracy: 0.0000e+00\n",
            "Epoch 28/30\n",
            "68/68 [==============================] - 0s 4ms/step - loss: 473746145280.0000 - accuracy: 0.0000e+00\n",
            "Epoch 29/30\n",
            "68/68 [==============================] - 0s 3ms/step - loss: 468863746048.0000 - accuracy: 0.0000e+00\n",
            "Epoch 30/30\n",
            "68/68 [==============================] - 0s 4ms/step - loss: 463889924096.0000 - accuracy: 0.0000e+00\n",
            "execution time for model nodes=25 0.01 learning:  10.747376680374146\n"
          ]
        }
      ]
    },
    {
      "cell_type": "code",
      "metadata": {
        "colab": {
          "base_uri": "https://localhost:8080/"
        },
        "id": "K6MEsRrjQzhu",
        "outputId": "067485e2-4812-4538-bc5c-227978a12640"
      },
      "source": [
        "adam_01 = Adam(learning_rate=0.01)\n",
        "\n",
        "start_time2 = time.time()\n",
        "model_hidden50_learning01.compile(optimizer = adam_01, loss = 'mean_squared_error', metrics=['accuracy'])\n",
        "# fit the model on training data\n",
        "model_hidden50_learning01.fit(xtrain, ytrain, batch_size=64, epochs=30,shuffle=True, verbose=1)\n",
        "print(\"execution time for model nodes=50 0.01 learning: \", time.time()-start_time2);"
      ],
      "execution_count": null,
      "outputs": [
        {
          "output_type": "stream",
          "name": "stdout",
          "text": [
            "Epoch 1/30\n",
            "68/68 [==============================] - 1s 4ms/step - loss: 550309134336.0000 - accuracy: 0.0000e+00\n",
            "Epoch 2/30\n",
            "68/68 [==============================] - 0s 4ms/step - loss: 549978374144.0000 - accuracy: 0.0000e+00\n",
            "Epoch 3/30\n",
            "68/68 [==============================] - 0s 4ms/step - loss: 549164515328.0000 - accuracy: 0.0000e+00\n",
            "Epoch 4/30\n",
            "68/68 [==============================] - 0s 4ms/step - loss: 547856089088.0000 - accuracy: 0.0000e+00\n",
            "Epoch 5/30\n",
            "68/68 [==============================] - 0s 4ms/step - loss: 546073214976.0000 - accuracy: 0.0000e+00\n",
            "Epoch 6/30\n",
            "68/68 [==============================] - 0s 4ms/step - loss: 543835815936.0000 - accuracy: 0.0000e+00\n",
            "Epoch 7/30\n",
            "68/68 [==============================] - 0s 4ms/step - loss: 541158801408.0000 - accuracy: 0.0000e+00\n",
            "Epoch 8/30\n",
            "68/68 [==============================] - 0s 3ms/step - loss: 538063208448.0000 - accuracy: 0.0000e+00\n",
            "Epoch 9/30\n",
            "68/68 [==============================] - 0s 3ms/step - loss: 534562504704.0000 - accuracy: 0.0000e+00\n",
            "Epoch 10/30\n",
            "68/68 [==============================] - 0s 4ms/step - loss: 530681856000.0000 - accuracy: 0.0000e+00\n",
            "Epoch 11/30\n",
            "68/68 [==============================] - 0s 4ms/step - loss: 526432698368.0000 - accuracy: 0.0000e+00\n",
            "Epoch 12/30\n",
            "68/68 [==============================] - 0s 4ms/step - loss: 521830694912.0000 - accuracy: 0.0000e+00\n",
            "Epoch 13/30\n",
            "68/68 [==============================] - 0s 4ms/step - loss: 516894752768.0000 - accuracy: 0.0000e+00\n",
            "Epoch 14/30\n",
            "68/68 [==============================] - 0s 4ms/step - loss: 511634440192.0000 - accuracy: 0.0000e+00\n",
            "Epoch 15/30\n",
            "68/68 [==============================] - 0s 4ms/step - loss: 506076823552.0000 - accuracy: 0.0000e+00\n",
            "Epoch 16/30\n",
            "68/68 [==============================] - 0s 3ms/step - loss: 500231503872.0000 - accuracy: 0.0000e+00\n",
            "Epoch 17/30\n",
            "68/68 [==============================] - 0s 4ms/step - loss: 494113325056.0000 - accuracy: 0.0000e+00\n",
            "Epoch 18/30\n",
            "68/68 [==============================] - 0s 4ms/step - loss: 487742013440.0000 - accuracy: 0.0000e+00\n",
            "Epoch 19/30\n",
            "68/68 [==============================] - 0s 4ms/step - loss: 481125498880.0000 - accuracy: 0.0000e+00\n",
            "Epoch 20/30\n",
            "68/68 [==============================] - 0s 3ms/step - loss: 474290585600.0000 - accuracy: 0.0000e+00\n",
            "Epoch 21/30\n",
            "68/68 [==============================] - 0s 4ms/step - loss: 467238846464.0000 - accuracy: 0.0000e+00\n",
            "Epoch 22/30\n",
            "68/68 [==============================] - 0s 4ms/step - loss: 459987517440.0000 - accuracy: 0.0000e+00\n",
            "Epoch 23/30\n",
            "68/68 [==============================] - 0s 4ms/step - loss: 452551311360.0000 - accuracy: 0.0000e+00\n",
            "Epoch 24/30\n",
            "68/68 [==============================] - 0s 4ms/step - loss: 444941664256.0000 - accuracy: 0.0000e+00\n",
            "Epoch 25/30\n",
            "68/68 [==============================] - 0s 4ms/step - loss: 437184593920.0000 - accuracy: 0.0000e+00\n",
            "Epoch 26/30\n",
            "68/68 [==============================] - 0s 4ms/step - loss: 429276266496.0000 - accuracy: 0.0000e+00\n",
            "Epoch 27/30\n",
            "68/68 [==============================] - 0s 4ms/step - loss: 421242175488.0000 - accuracy: 0.0000e+00\n",
            "Epoch 28/30\n",
            "68/68 [==============================] - 0s 3ms/step - loss: 413093953536.0000 - accuracy: 0.0000e+00\n",
            "Epoch 29/30\n",
            "68/68 [==============================] - 0s 4ms/step - loss: 404834582528.0000 - accuracy: 0.0000e+00\n",
            "Epoch 30/30\n",
            "68/68 [==============================] - 0s 4ms/step - loss: 396486508544.0000 - accuracy: 0.0000e+00\n",
            "execution time for model nodes=50 0.01 learning:  10.748280048370361\n"
          ]
        }
      ]
    },
    {
      "cell_type": "code",
      "metadata": {
        "colab": {
          "base_uri": "https://localhost:8080/"
        },
        "id": "CVnBleGyQzhv",
        "outputId": "262f69b4-434f-4379-a6ce-fb6b31011810"
      },
      "source": [
        "adam_01 = Adam(learning_rate=0.01)\n",
        "\n",
        "start_time1 = time.time()\n",
        "model_hidden100_learning01.compile(optimizer = adam_01, loss = 'mean_squared_error', metrics=['accuracy'])\n",
        "# fit the model on training data\n",
        "model_hidden100_learning01.fit(xtrain, ytrain, batch_size=64, epochs=30,shuffle=True, verbose=1)\n",
        "print(\"execution time for model nodes=100 0.01 learning: \", time.time()-start_time1);"
      ],
      "execution_count": null,
      "outputs": [
        {
          "output_type": "stream",
          "name": "stdout",
          "text": [
            "Epoch 1/30\n",
            "68/68 [==============================] - 1s 4ms/step - loss: 550265094144.0000 - accuracy: 0.0000e+00\n",
            "Epoch 2/30\n",
            "68/68 [==============================] - 0s 4ms/step - loss: 549599772672.0000 - accuracy: 0.0000e+00\n",
            "Epoch 3/30\n",
            "68/68 [==============================] - 0s 3ms/step - loss: 548035887104.0000 - accuracy: 0.0000e+00\n",
            "Epoch 4/30\n",
            "68/68 [==============================] - 0s 4ms/step - loss: 545551056896.0000 - accuracy: 0.0000e+00\n",
            "Epoch 5/30\n",
            "68/68 [==============================] - 0s 3ms/step - loss: 542178115584.0000 - accuracy: 0.0000e+00\n",
            "Epoch 6/30\n",
            "68/68 [==============================] - 0s 3ms/step - loss: 537952223232.0000 - accuracy: 0.0000e+00\n",
            "Epoch 7/30\n",
            "68/68 [==============================] - 0s 3ms/step - loss: 532911128576.0000 - accuracy: 0.0000e+00\n",
            "Epoch 8/30\n",
            "68/68 [==============================] - 0s 4ms/step - loss: 527104016384.0000 - accuracy: 0.0000e+00\n",
            "Epoch 9/30\n",
            "68/68 [==============================] - 0s 4ms/step - loss: 520564932608.0000 - accuracy: 0.0000e+00\n",
            "Epoch 10/30\n",
            "68/68 [==============================] - 0s 4ms/step - loss: 513342013440.0000 - accuracy: 0.0000e+00\n",
            "Epoch 11/30\n",
            "68/68 [==============================] - 0s 4ms/step - loss: 505473138688.0000 - accuracy: 0.0000e+00\n",
            "Epoch 12/30\n",
            "68/68 [==============================] - 0s 4ms/step - loss: 497006215168.0000 - accuracy: 0.0000e+00\n",
            "Epoch 13/30\n",
            "68/68 [==============================] - 0s 4ms/step - loss: 487987052544.0000 - accuracy: 0.0000e+00\n",
            "Epoch 14/30\n",
            "68/68 [==============================] - 0s 3ms/step - loss: 478452776960.0000 - accuracy: 0.0000e+00\n",
            "Epoch 15/30\n",
            "68/68 [==============================] - 0s 4ms/step - loss: 468444184576.0000 - accuracy: 0.0000e+00\n",
            "Epoch 16/30\n",
            "68/68 [==============================] - 0s 4ms/step - loss: 458000760832.0000 - accuracy: 0.0000e+00\n",
            "Epoch 17/30\n",
            "68/68 [==============================] - 0s 4ms/step - loss: 447169527808.0000 - accuracy: 0.0000e+00\n",
            "Epoch 18/30\n",
            "68/68 [==============================] - 0s 4ms/step - loss: 435985317888.0000 - accuracy: 0.0000e+00\n",
            "Epoch 19/30\n",
            "68/68 [==============================] - 0s 4ms/step - loss: 424499314688.0000 - accuracy: 0.0000e+00\n",
            "Epoch 20/30\n",
            "68/68 [==============================] - 0s 4ms/step - loss: 412730163200.0000 - accuracy: 0.0000e+00\n",
            "Epoch 21/30\n",
            "68/68 [==============================] - 0s 4ms/step - loss: 400735633408.0000 - accuracy: 0.0000e+00\n",
            "Epoch 22/30\n",
            "68/68 [==============================] - 0s 4ms/step - loss: 388547117056.0000 - accuracy: 0.0000e+00\n",
            "Epoch 23/30\n",
            "68/68 [==============================] - 0s 3ms/step - loss: 376201445376.0000 - accuracy: 0.0000e+00\n",
            "Epoch 24/30\n",
            "68/68 [==============================] - 0s 4ms/step - loss: 363737022464.0000 - accuracy: 0.0000e+00\n",
            "Epoch 25/30\n",
            "68/68 [==============================] - 0s 4ms/step - loss: 351175770112.0000 - accuracy: 0.0000e+00\n",
            "Epoch 26/30\n",
            "68/68 [==============================] - 0s 4ms/step - loss: 338559959040.0000 - accuracy: 0.0000e+00\n",
            "Epoch 27/30\n",
            "68/68 [==============================] - 0s 4ms/step - loss: 325916950528.0000 - accuracy: 0.0000e+00\n",
            "Epoch 28/30\n",
            "68/68 [==============================] - 0s 4ms/step - loss: 313291898880.0000 - accuracy: 0.0000e+00\n",
            "Epoch 29/30\n",
            "68/68 [==============================] - 0s 4ms/step - loss: 300703481856.0000 - accuracy: 0.0000e+00\n",
            "Epoch 30/30\n",
            "68/68 [==============================] - 0s 3ms/step - loss: 288183091200.0000 - accuracy: 0.0000e+00\n",
            "execution time for model nodes=100 0.01 learning:  10.733232021331787\n"
          ]
        }
      ]
    },
    {
      "cell_type": "code",
      "metadata": {
        "colab": {
          "base_uri": "https://localhost:8080/"
        },
        "id": "cUdknK1oRIUx",
        "outputId": "94718eef-fb83-4513-b6eb-786d971a011f"
      },
      "source": [
        "adam_1 = Adam(learning_rate=0.1)\n",
        "\n",
        "start_time1 = time.time()\n",
        "model_hidden25_learning1.compile(optimizer = adam_1, loss = 'mean_squared_error', metrics=['accuracy'])\n",
        "# fit the model on training data\n",
        "model_hidden25_learning01.fit(xtrain, ytrain, batch_size=64, epochs=30,shuffle=True, verbose=1)\n",
        "print(\"execution time for model nodes=25 0.1 learning: \", time.time()-start_time1);"
      ],
      "execution_count": null,
      "outputs": [
        {
          "output_type": "stream",
          "name": "stdout",
          "text": [
            "Epoch 1/30\n",
            "68/68 [==============================] - 0s 4ms/step - loss: 458825039872.0000 - accuracy: 0.0000e+00\n",
            "Epoch 2/30\n",
            "68/68 [==============================] - 0s 4ms/step - loss: 453679185920.0000 - accuracy: 0.0000e+00\n",
            "Epoch 3/30\n",
            "68/68 [==============================] - 0s 4ms/step - loss: 448448888832.0000 - accuracy: 0.0000e+00\n",
            "Epoch 4/30\n",
            "68/68 [==============================] - 0s 4ms/step - loss: 443146108928.0000 - accuracy: 0.0000e+00\n",
            "Epoch 5/30\n",
            "68/68 [==============================] - 0s 4ms/step - loss: 437773467648.0000 - accuracy: 0.0000e+00\n",
            "Epoch 6/30\n",
            "68/68 [==============================] - 0s 4ms/step - loss: 432335290368.0000 - accuracy: 0.0000e+00\n",
            "Epoch 7/30\n",
            "68/68 [==============================] - 0s 4ms/step - loss: 426834100224.0000 - accuracy: 0.0000e+00\n",
            "Epoch 8/30\n",
            "68/68 [==============================] - 0s 4ms/step - loss: 421274976256.0000 - accuracy: 0.0000e+00\n",
            "Epoch 9/30\n",
            "68/68 [==============================] - 0s 4ms/step - loss: 415658213376.0000 - accuracy: 0.0000e+00\n",
            "Epoch 10/30\n",
            "68/68 [==============================] - 0s 3ms/step - loss: 409989054464.0000 - accuracy: 0.0000e+00\n",
            "Epoch 11/30\n",
            "68/68 [==============================] - 0s 4ms/step - loss: 404276641792.0000 - accuracy: 0.0000e+00\n",
            "Epoch 12/30\n",
            "68/68 [==============================] - 0s 4ms/step - loss: 398521532416.0000 - accuracy: 0.0000e+00\n",
            "Epoch 13/30\n",
            "68/68 [==============================] - 0s 3ms/step - loss: 392727101440.0000 - accuracy: 0.0000e+00\n",
            "Epoch 14/30\n",
            "68/68 [==============================] - 0s 4ms/step - loss: 386888531968.0000 - accuracy: 0.0000e+00\n",
            "Epoch 15/30\n",
            "68/68 [==============================] - 0s 4ms/step - loss: 381019979776.0000 - accuracy: 0.0000e+00\n",
            "Epoch 16/30\n",
            "68/68 [==============================] - 0s 4ms/step - loss: 375117873152.0000 - accuracy: 0.0000e+00\n",
            "Epoch 17/30\n",
            "68/68 [==============================] - 0s 4ms/step - loss: 369192304640.0000 - accuracy: 0.0000e+00\n",
            "Epoch 18/30\n",
            "68/68 [==============================] - 0s 4ms/step - loss: 363242782720.0000 - accuracy: 0.0000e+00\n",
            "Epoch 19/30\n",
            "68/68 [==============================] - 0s 4ms/step - loss: 357274877952.0000 - accuracy: 0.0000e+00\n",
            "Epoch 20/30\n",
            "68/68 [==============================] - 0s 4ms/step - loss: 351285575680.0000 - accuracy: 0.0000e+00\n",
            "Epoch 21/30\n",
            "68/68 [==============================] - 0s 4ms/step - loss: 345283362816.0000 - accuracy: 0.0000e+00\n",
            "Epoch 22/30\n",
            "68/68 [==============================] - 0s 4ms/step - loss: 339270467584.0000 - accuracy: 0.0000e+00\n",
            "Epoch 23/30\n",
            "68/68 [==============================] - 0s 4ms/step - loss: 333248364544.0000 - accuracy: 0.0000e+00\n",
            "Epoch 24/30\n",
            "68/68 [==============================] - 0s 4ms/step - loss: 327224918016.0000 - accuracy: 0.0000e+00\n",
            "Epoch 25/30\n",
            "68/68 [==============================] - 0s 4ms/step - loss: 321188331520.0000 - accuracy: 0.0000e+00\n",
            "Epoch 26/30\n",
            "68/68 [==============================] - 0s 4ms/step - loss: 315159216128.0000 - accuracy: 0.0000e+00\n",
            "Epoch 27/30\n",
            "68/68 [==============================] - 0s 4ms/step - loss: 309134131200.0000 - accuracy: 0.0000e+00\n",
            "Epoch 28/30\n",
            "68/68 [==============================] - 0s 4ms/step - loss: 303112519680.0000 - accuracy: 0.0000e+00\n",
            "Epoch 29/30\n",
            "68/68 [==============================] - 0s 4ms/step - loss: 297100312576.0000 - accuracy: 0.0000e+00\n",
            "Epoch 30/30\n",
            "68/68 [==============================] - 0s 4ms/step - loss: 291101736960.0000 - accuracy: 0.0000e+00\n",
            "execution time for model nodes=25 0.1 learning:  10.320895671844482\n"
          ]
        }
      ]
    },
    {
      "cell_type": "code",
      "metadata": {
        "colab": {
          "base_uri": "https://localhost:8080/"
        },
        "id": "QkrumAKhRQKS",
        "outputId": "ebef5c4b-32db-4af3-fd4c-a70554896b13"
      },
      "source": [
        "adam_1 = Adam(learning_rate=0.1)\n",
        "\n",
        "start_time2 = time.time()\n",
        "model_hidden50_learning1.compile(optimizer = adam_1, loss = 'mean_squared_error', metrics=['accuracy'])\n",
        "# fit the model on training data\n",
        "model_hidden50_learning1.fit(xtrain, ytrain, batch_size=64, epochs=30,shuffle=True, verbose=1)\n",
        "print(\"execution time for model nodes=50 0.1 learning: \", time.time()-start_time2);"
      ],
      "execution_count": null,
      "outputs": [
        {
          "output_type": "stream",
          "name": "stdout",
          "text": [
            "Epoch 1/30\n",
            "68/68 [==============================] - 1s 4ms/step - loss: 547673899008.0000 - accuracy: 0.0000e+00\n",
            "Epoch 2/30\n",
            "68/68 [==============================] - 0s 4ms/step - loss: 525393002496.0000 - accuracy: 0.0000e+00\n",
            "Epoch 3/30\n",
            "68/68 [==============================] - 0s 4ms/step - loss: 475124137984.0000 - accuracy: 0.0000e+00\n",
            "Epoch 4/30\n",
            "68/68 [==============================] - 0s 4ms/step - loss: 402838323200.0000 - accuracy: 0.0000e+00\n",
            "Epoch 5/30\n",
            "68/68 [==============================] - 0s 4ms/step - loss: 318735843328.0000 - accuracy: 0.0000e+00\n",
            "Epoch 6/30\n",
            "68/68 [==============================] - 0s 4ms/step - loss: 233889792000.0000 - accuracy: 0.0000e+00\n",
            "Epoch 7/30\n",
            "68/68 [==============================] - 0s 4ms/step - loss: 158387503104.0000 - accuracy: 0.0000e+00\n",
            "Epoch 8/30\n",
            "68/68 [==============================] - 0s 4ms/step - loss: 98804998144.0000 - accuracy: 0.0000e+00\n",
            "Epoch 9/30\n",
            "68/68 [==============================] - 0s 4ms/step - loss: 57405566976.0000 - accuracy: 0.0000e+00\n",
            "Epoch 10/30\n",
            "68/68 [==============================] - 0s 4ms/step - loss: 32235220992.0000 - accuracy: 0.0000e+00\n",
            "Epoch 11/30\n",
            "68/68 [==============================] - 0s 4ms/step - loss: 18924593152.0000 - accuracy: 0.0000e+00\n",
            "Epoch 12/30\n",
            "68/68 [==============================] - 0s 4ms/step - loss: 12672249856.0000 - accuracy: 0.0000e+00\n",
            "Epoch 13/30\n",
            "68/68 [==============================] - 0s 4ms/step - loss: 9869432832.0000 - accuracy: 0.0000e+00\n",
            "Epoch 14/30\n",
            "68/68 [==============================] - 0s 4ms/step - loss: 8524239360.0000 - accuracy: 0.0000e+00\n",
            "Epoch 15/30\n",
            "68/68 [==============================] - 0s 4ms/step - loss: 7716887552.0000 - accuracy: 0.0000e+00\n",
            "Epoch 16/30\n",
            "68/68 [==============================] - 0s 4ms/step - loss: 7110852608.0000 - accuracy: 0.0000e+00\n",
            "Epoch 17/30\n",
            "68/68 [==============================] - 0s 4ms/step - loss: 6594531840.0000 - accuracy: 0.0000e+00\n",
            "Epoch 18/30\n",
            "68/68 [==============================] - 0s 4ms/step - loss: 6133202944.0000 - accuracy: 0.0000e+00\n",
            "Epoch 19/30\n",
            "68/68 [==============================] - 0s 4ms/step - loss: 5718302208.0000 - accuracy: 0.0000e+00\n",
            "Epoch 20/30\n",
            "68/68 [==============================] - 0s 4ms/step - loss: 5345159680.0000 - accuracy: 0.0000e+00\n",
            "Epoch 21/30\n",
            "68/68 [==============================] - 0s 4ms/step - loss: 5007687168.0000 - accuracy: 0.0000e+00\n",
            "Epoch 22/30\n",
            "68/68 [==============================] - 0s 4ms/step - loss: 4703657472.0000 - accuracy: 0.0000e+00\n",
            "Epoch 23/30\n",
            "68/68 [==============================] - 0s 4ms/step - loss: 4430023168.0000 - accuracy: 0.0000e+00\n",
            "Epoch 24/30\n",
            "68/68 [==============================] - 0s 4ms/step - loss: 4180486144.0000 - accuracy: 0.0000e+00\n",
            "Epoch 25/30\n",
            "68/68 [==============================] - 0s 4ms/step - loss: 3953228544.0000 - accuracy: 0.0000e+00\n",
            "Epoch 26/30\n",
            "68/68 [==============================] - 0s 4ms/step - loss: 3744598272.0000 - accuracy: 0.0000e+00\n",
            "Epoch 27/30\n",
            "68/68 [==============================] - 0s 4ms/step - loss: 3552109568.0000 - accuracy: 0.0000e+00\n",
            "Epoch 28/30\n",
            "68/68 [==============================] - 0s 4ms/step - loss: 3373558016.0000 - accuracy: 0.0000e+00\n",
            "Epoch 29/30\n",
            "68/68 [==============================] - 0s 4ms/step - loss: 3204911872.0000 - accuracy: 0.0000e+00\n",
            "Epoch 30/30\n",
            "68/68 [==============================] - 0s 4ms/step - loss: 3046119424.0000 - accuracy: 0.0000e+00\n",
            "execution time for model nodes=50 0.1 learning:  10.744277238845825\n"
          ]
        }
      ]
    },
    {
      "cell_type": "code",
      "metadata": {
        "colab": {
          "base_uri": "https://localhost:8080/"
        },
        "id": "gDtPgtp8Rat6",
        "outputId": "cd4e3a38-0fdf-4178-fc0d-e297b5bfbb72"
      },
      "source": [
        "adam_1 = Adam(learning_rate=0.1)\n",
        "\n",
        "start_time3 = time.time()\n",
        "model_hidden100_learning1.compile(optimizer = adam_1, loss = 'mean_squared_error', metrics=['accuracy'])\n",
        "# fit the model on training data\n",
        "model_hidden100_learning1.fit(xtrain, ytrain, batch_size=64, epochs=30,shuffle=True, verbose=1)\n",
        "print(\"execution time for model nodes=100 0.1 learning: \", time.time()-start_time3);"
      ],
      "execution_count": null,
      "outputs": [
        {
          "output_type": "stream",
          "name": "stdout",
          "text": [
            "Epoch 1/30\n",
            "68/68 [==============================] - 1s 4ms/step - loss: 544122535936.0000 - accuracy: 0.0000e+00\n",
            "Epoch 2/30\n",
            "68/68 [==============================] - 0s 4ms/step - loss: 492723666944.0000 - accuracy: 0.0000e+00\n",
            "Epoch 3/30\n",
            "68/68 [==============================] - 0s 3ms/step - loss: 384805502976.0000 - accuracy: 0.0000e+00\n",
            "Epoch 4/30\n",
            "68/68 [==============================] - 0s 4ms/step - loss: 252403023872.0000 - accuracy: 0.0000e+00\n",
            "Epoch 5/30\n",
            "68/68 [==============================] - 0s 4ms/step - loss: 135486906368.0000 - accuracy: 0.0000e+00\n",
            "Epoch 6/30\n",
            "68/68 [==============================] - 0s 4ms/step - loss: 59461939200.0000 - accuracy: 0.0000e+00\n",
            "Epoch 7/30\n",
            "68/68 [==============================] - 0s 4ms/step - loss: 24055943168.0000 - accuracy: 0.0000e+00\n",
            "Epoch 8/30\n",
            "68/68 [==============================] - 0s 4ms/step - loss: 12221519872.0000 - accuracy: 0.0000e+00\n",
            "Epoch 9/30\n",
            "68/68 [==============================] - 0s 4ms/step - loss: 8883525632.0000 - accuracy: 0.0000e+00\n",
            "Epoch 10/30\n",
            "68/68 [==============================] - 0s 4ms/step - loss: 7608685568.0000 - accuracy: 0.0000e+00\n",
            "Epoch 11/30\n",
            "68/68 [==============================] - 0s 4ms/step - loss: 6763127808.0000 - accuracy: 0.0000e+00\n",
            "Epoch 12/30\n",
            "68/68 [==============================] - 0s 4ms/step - loss: 6064740352.0000 - accuracy: 0.0000e+00\n",
            "Epoch 13/30\n",
            "68/68 [==============================] - 0s 4ms/step - loss: 5473511936.0000 - accuracy: 0.0000e+00\n",
            "Epoch 14/30\n",
            "68/68 [==============================] - 0s 4ms/step - loss: 4972950528.0000 - accuracy: 0.0000e+00\n",
            "Epoch 15/30\n",
            "68/68 [==============================] - 0s 4ms/step - loss: 4541808640.0000 - accuracy: 0.0000e+00\n",
            "Epoch 16/30\n",
            "68/68 [==============================] - 0s 4ms/step - loss: 4175345664.0000 - accuracy: 0.0000e+00\n",
            "Epoch 17/30\n",
            "68/68 [==============================] - 0s 4ms/step - loss: 3856368128.0000 - accuracy: 0.0000e+00\n",
            "Epoch 18/30\n",
            "68/68 [==============================] - 0s 4ms/step - loss: 3575739392.0000 - accuracy: 0.0000e+00\n",
            "Epoch 19/30\n",
            "68/68 [==============================] - 0s 4ms/step - loss: 3324219904.0000 - accuracy: 0.0000e+00\n",
            "Epoch 20/30\n",
            "68/68 [==============================] - 0s 4ms/step - loss: 3095262464.0000 - accuracy: 0.0000e+00\n",
            "Epoch 21/30\n",
            "68/68 [==============================] - 0s 4ms/step - loss: 2885257984.0000 - accuracy: 0.0000e+00\n",
            "Epoch 22/30\n",
            "68/68 [==============================] - 0s 4ms/step - loss: 2688995328.0000 - accuracy: 0.0000e+00\n",
            "Epoch 23/30\n",
            "68/68 [==============================] - 0s 4ms/step - loss: 2505639424.0000 - accuracy: 0.0000e+00\n",
            "Epoch 24/30\n",
            "68/68 [==============================] - 0s 4ms/step - loss: 2330983936.0000 - accuracy: 0.0000e+00\n",
            "Epoch 25/30\n",
            "68/68 [==============================] - 0s 4ms/step - loss: 2165957120.0000 - accuracy: 0.0000e+00\n",
            "Epoch 26/30\n",
            "68/68 [==============================] - 0s 4ms/step - loss: 2009115648.0000 - accuracy: 0.0000e+00\n",
            "Epoch 27/30\n",
            "68/68 [==============================] - 0s 4ms/step - loss: 1859455872.0000 - accuracy: 0.0000e+00\n",
            "Epoch 28/30\n",
            "68/68 [==============================] - 0s 3ms/step - loss: 1717860480.0000 - accuracy: 0.0000e+00\n",
            "Epoch 29/30\n",
            "68/68 [==============================] - 0s 4ms/step - loss: 1583721472.0000 - accuracy: 0.0000e+00\n",
            "Epoch 30/30\n",
            "68/68 [==============================] - 0s 4ms/step - loss: 1457718528.0000 - accuracy: 0.0000e+00\n",
            "execution time for model nodes=100 0.1 learning:  8.275849103927612\n"
          ]
        }
      ]
    },
    {
      "cell_type": "code",
      "metadata": {
        "colab": {
          "base_uri": "https://localhost:8080/"
        },
        "id": "A83osZRtRgXn",
        "outputId": "a983a2de-f678-43a3-a35b-f72fb43f95ba"
      },
      "source": [
        "# train a two-hidden layered neural network\n",
        "#model 4 two hidden layer # of hidden nodes=25\n",
        "model_twolayers_Hidden25_learning001=Sequential()\n",
        "model_twolayers_Hidden25_learning001.add(Dense(25, activation=\"relu\", input_shape=(8,)))\n",
        "model_twolayers_Hidden25_learning001.add(Dense(25, activation=\"relu\"))\n",
        "model_twolayers_Hidden25_learning001.add(Dense(1, activation='linear')) #since it is a regression problem\n",
        "#model_twolayers_Hidden25_learning001.summary()\n",
        "\n",
        "# compile your model with an optimizer\n",
        "adam001 = Adam(learning_rate=0.001)\n",
        "model_twolayers_Hidden25_learning001.compile(optimizer = adam001, loss = 'mean_squared_error', metrics=['accuracy'])\n",
        "# fit the model on training data\n",
        "model_twolayers_Hidden25_learning001.fit(xtrain, ytrain, batch_size=64, epochs=30,shuffle=True, verbose=1)"
      ],
      "execution_count": null,
      "outputs": [
        {
          "output_type": "stream",
          "name": "stdout",
          "text": [
            "Epoch 1/30\n",
            "68/68 [==============================] - 1s 4ms/step - loss: 550347341824.0000 - accuracy: 0.0000e+00\n",
            "Epoch 2/30\n",
            "68/68 [==============================] - 0s 4ms/step - loss: 550338756608.0000 - accuracy: 0.0000e+00\n",
            "Epoch 3/30\n",
            "68/68 [==============================] - 0s 4ms/step - loss: 550307561472.0000 - accuracy: 0.0000e+00\n",
            "Epoch 4/30\n",
            "68/68 [==============================] - 0s 4ms/step - loss: 550227214336.0000 - accuracy: 0.0000e+00\n",
            "Epoch 5/30\n",
            "68/68 [==============================] - 0s 4ms/step - loss: 550066454528.0000 - accuracy: 0.0000e+00\n",
            "Epoch 6/30\n",
            "68/68 [==============================] - 0s 4ms/step - loss: 549797691392.0000 - accuracy: 0.0000e+00\n",
            "Epoch 7/30\n",
            "68/68 [==============================] - 0s 4ms/step - loss: 549395529728.0000 - accuracy: 0.0000e+00\n",
            "Epoch 8/30\n",
            "68/68 [==============================] - 0s 4ms/step - loss: 548835491840.0000 - accuracy: 0.0000e+00\n",
            "Epoch 9/30\n",
            "68/68 [==============================] - 0s 4ms/step - loss: 548092706816.0000 - accuracy: 0.0000e+00\n",
            "Epoch 10/30\n",
            "68/68 [==============================] - 0s 4ms/step - loss: 547153805312.0000 - accuracy: 0.0000e+00\n",
            "Epoch 11/30\n",
            "68/68 [==============================] - 0s 4ms/step - loss: 546003058688.0000 - accuracy: 0.0000e+00\n",
            "Epoch 12/30\n",
            "68/68 [==============================] - 0s 4ms/step - loss: 544626769920.0000 - accuracy: 0.0000e+00\n",
            "Epoch 13/30\n",
            "68/68 [==============================] - 0s 4ms/step - loss: 543014354944.0000 - accuracy: 0.0000e+00\n",
            "Epoch 14/30\n",
            "68/68 [==============================] - 0s 4ms/step - loss: 541152280576.0000 - accuracy: 0.0000e+00\n",
            "Epoch 15/30\n",
            "68/68 [==============================] - 0s 4ms/step - loss: 539031437312.0000 - accuracy: 0.0000e+00\n",
            "Epoch 16/30\n",
            "68/68 [==============================] - 0s 4ms/step - loss: 536644419584.0000 - accuracy: 0.0000e+00\n",
            "Epoch 17/30\n",
            "68/68 [==============================] - 0s 4ms/step - loss: 533982740480.0000 - accuracy: 0.0000e+00\n",
            "Epoch 18/30\n",
            "68/68 [==============================] - 0s 4ms/step - loss: 531041452032.0000 - accuracy: 0.0000e+00\n",
            "Epoch 19/30\n",
            "68/68 [==============================] - 0s 4ms/step - loss: 527813443584.0000 - accuracy: 0.0000e+00\n",
            "Epoch 20/30\n",
            "68/68 [==============================] - 0s 4ms/step - loss: 524293406720.0000 - accuracy: 0.0000e+00\n",
            "Epoch 21/30\n",
            "68/68 [==============================] - 0s 4ms/step - loss: 520481931264.0000 - accuracy: 0.0000e+00\n",
            "Epoch 22/30\n",
            "68/68 [==============================] - 0s 4ms/step - loss: 516373053440.0000 - accuracy: 0.0000e+00\n",
            "Epoch 23/30\n",
            "68/68 [==============================] - 0s 4ms/step - loss: 511965429760.0000 - accuracy: 0.0000e+00\n",
            "Epoch 24/30\n",
            "68/68 [==============================] - 0s 4ms/step - loss: 507262894080.0000 - accuracy: 0.0000e+00\n",
            "Epoch 25/30\n",
            "68/68 [==============================] - 0s 4ms/step - loss: 502261252096.0000 - accuracy: 0.0000e+00\n",
            "Epoch 26/30\n",
            "68/68 [==============================] - 0s 4ms/step - loss: 496971743232.0000 - accuracy: 0.0000e+00\n",
            "Epoch 27/30\n",
            "68/68 [==============================] - 0s 4ms/step - loss: 491389779968.0000 - accuracy: 0.0000e+00\n",
            "Epoch 28/30\n",
            "68/68 [==============================] - 0s 4ms/step - loss: 485524996096.0000 - accuracy: 0.0000e+00\n",
            "Epoch 29/30\n",
            "68/68 [==============================] - 0s 4ms/step - loss: 479369592832.0000 - accuracy: 0.0000e+00\n",
            "Epoch 30/30\n",
            "68/68 [==============================] - 0s 4ms/step - loss: 472938905600.0000 - accuracy: 0.0000e+00\n"
          ]
        },
        {
          "output_type": "execute_result",
          "data": {
            "text/plain": [
              "<keras.callbacks.History at 0x7f10602de6d0>"
            ]
          },
          "metadata": {},
          "execution_count": 28
        }
      ]
    },
    {
      "cell_type": "code",
      "metadata": {
        "colab": {
          "base_uri": "https://localhost:8080/"
        },
        "id": "zg-WSGd6RpLN",
        "outputId": "949a8dba-8633-44fa-bfa6-bea68431f456"
      },
      "source": [
        "# train a two-hidden layered neural network\n",
        "#model 4 two hidden layer # of hidden nodes=50\n",
        "model_twolayers_Hidden50_learning001=Sequential()\n",
        "model_twolayers_Hidden50_learning001.add(Dense(50, activation=\"relu\", input_shape=(8,)))\n",
        "model_twolayers_Hidden50_learning001.add(Dense(50, activation=\"relu\"))\n",
        "model_twolayers_Hidden50_learning001.add(Dense(1, activation='linear')) #since it is a regression problem\n",
        "#model_twolayers_Hidden50_learning001.summary()\n",
        "\n",
        "# compile your model with an optimizer\n",
        "adam001 = Adam(learning_rate=0.001)\n",
        "model_twolayers_Hidden50_learning001.compile(optimizer = adam001, loss = 'mean_squared_error', metrics=['accuracy'])\n",
        "# fit the model on training data\n",
        "model_twolayers_Hidden50_learning001.fit(xtrain, ytrain, batch_size=64, epochs=30,shuffle=True, verbose=1)"
      ],
      "execution_count": null,
      "outputs": [
        {
          "output_type": "stream",
          "name": "stdout",
          "text": [
            "Epoch 1/30\n",
            "68/68 [==============================] - 1s 4ms/step - loss: 550345703424.0000 - accuracy: 0.0000e+00\n",
            "Epoch 2/30\n",
            "68/68 [==============================] - 0s 4ms/step - loss: 550312673280.0000 - accuracy: 0.0000e+00\n",
            "Epoch 3/30\n",
            "68/68 [==============================] - 0s 4ms/step - loss: 550163120128.0000 - accuracy: 0.0000e+00\n",
            "Epoch 4/30\n",
            "68/68 [==============================] - 0s 4ms/step - loss: 549774032896.0000 - accuracy: 0.0000e+00\n",
            "Epoch 5/30\n",
            "68/68 [==============================] - 0s 4ms/step - loss: 549029117952.0000 - accuracy: 0.0000e+00\n",
            "Epoch 6/30\n",
            "68/68 [==============================] - 0s 4ms/step - loss: 547823190016.0000 - accuracy: 0.0000e+00\n",
            "Epoch 7/30\n",
            "68/68 [==============================] - 0s 4ms/step - loss: 546064629760.0000 - accuracy: 0.0000e+00\n",
            "Epoch 8/30\n",
            "68/68 [==============================] - 0s 4ms/step - loss: 543671156736.0000 - accuracy: 0.0000e+00\n",
            "Epoch 9/30\n",
            "68/68 [==============================] - 0s 4ms/step - loss: 540571205632.0000 - accuracy: 0.0000e+00\n",
            "Epoch 10/30\n",
            "68/68 [==============================] - 0s 4ms/step - loss: 536701140992.0000 - accuracy: 0.0000e+00\n",
            "Epoch 11/30\n",
            "68/68 [==============================] - 0s 4ms/step - loss: 532002668544.0000 - accuracy: 0.0000e+00\n",
            "Epoch 12/30\n",
            "68/68 [==============================] - 0s 4ms/step - loss: 526432927744.0000 - accuracy: 0.0000e+00\n",
            "Epoch 13/30\n",
            "68/68 [==============================] - 0s 4ms/step - loss: 519956299776.0000 - accuracy: 0.0000e+00\n",
            "Epoch 14/30\n",
            "68/68 [==============================] - 0s 4ms/step - loss: 512555843584.0000 - accuracy: 0.0000e+00\n",
            "Epoch 15/30\n",
            "68/68 [==============================] - 0s 4ms/step - loss: 504205869056.0000 - accuracy: 0.0000e+00\n",
            "Epoch 16/30\n",
            "68/68 [==============================] - 0s 4ms/step - loss: 494909292544.0000 - accuracy: 0.0000e+00\n",
            "Epoch 17/30\n",
            "68/68 [==============================] - 0s 4ms/step - loss: 484673224704.0000 - accuracy: 0.0000e+00\n",
            "Epoch 18/30\n",
            "68/68 [==============================] - 0s 4ms/step - loss: 473499041792.0000 - accuracy: 0.0000e+00\n",
            "Epoch 19/30\n",
            "68/68 [==============================] - 0s 4ms/step - loss: 461425573888.0000 - accuracy: 0.0000e+00\n",
            "Epoch 20/30\n",
            "68/68 [==============================] - 0s 4ms/step - loss: 448496828416.0000 - accuracy: 0.0000e+00\n",
            "Epoch 21/30\n",
            "68/68 [==============================] - 0s 4ms/step - loss: 434741248000.0000 - accuracy: 0.0000e+00\n",
            "Epoch 22/30\n",
            "68/68 [==============================] - 0s 4ms/step - loss: 420218175488.0000 - accuracy: 0.0000e+00\n",
            "Epoch 23/30\n",
            "68/68 [==============================] - 0s 4ms/step - loss: 404984627200.0000 - accuracy: 0.0000e+00\n",
            "Epoch 24/30\n",
            "68/68 [==============================] - 0s 4ms/step - loss: 389104304128.0000 - accuracy: 0.0000e+00\n",
            "Epoch 25/30\n",
            "68/68 [==============================] - 0s 4ms/step - loss: 372649197568.0000 - accuracy: 0.0000e+00\n",
            "Epoch 26/30\n",
            "68/68 [==============================] - 0s 4ms/step - loss: 355709321216.0000 - accuracy: 0.0000e+00\n",
            "Epoch 27/30\n",
            "68/68 [==============================] - 0s 4ms/step - loss: 338376359936.0000 - accuracy: 0.0000e+00\n",
            "Epoch 28/30\n",
            "68/68 [==============================] - 0s 4ms/step - loss: 320726106112.0000 - accuracy: 0.0000e+00\n",
            "Epoch 29/30\n",
            "68/68 [==============================] - 0s 4ms/step - loss: 302866268160.0000 - accuracy: 0.0000e+00\n",
            "Epoch 30/30\n",
            "68/68 [==============================] - 0s 4ms/step - loss: 284905766912.0000 - accuracy: 0.0000e+00\n"
          ]
        },
        {
          "output_type": "execute_result",
          "data": {
            "text/plain": [
              "<keras.callbacks.History at 0x7f106017abd0>"
            ]
          },
          "metadata": {},
          "execution_count": 29
        }
      ]
    },
    {
      "cell_type": "code",
      "metadata": {
        "colab": {
          "base_uri": "https://localhost:8080/"
        },
        "id": "ZBYOQ26qRsUI",
        "outputId": "ea5959b6-40a2-4eda-b9b0-aa1c6e63b2ef"
      },
      "source": [
        "# train a two-hidden layered neural network\n",
        "#model 4 two hidden layer # of hidden nodes=100\n",
        "model_twolayers_Hidden100_learning001=Sequential()\n",
        "model_twolayers_Hidden100_learning001.add(Dense(100, activation=\"relu\", input_shape=(8,)))\n",
        "model_twolayers_Hidden100_learning001.add(Dense(100, activation=\"relu\"))\n",
        "model_twolayers_Hidden100_learning001.add(Dense(1, activation='linear')) #since it is a regression problem\n",
        "#model_twolayers_Hidden100_learning001.summary()\n",
        "\n",
        "# compile your model with an optimizer\n",
        "adam001 = Adam(learning_rate=0.001)\n",
        "model_twolayers_Hidden100_learning001.compile(optimizer = adam001, loss = 'mean_squared_error', metrics=['accuracy'])\n",
        "# fit the model on training data\n",
        "model_twolayers_Hidden100_learning001.fit(xtrain, ytrain, batch_size=64, epochs=30,shuffle=True, verbose=1)"
      ],
      "execution_count": null,
      "outputs": [
        {
          "output_type": "stream",
          "name": "stdout",
          "text": [
            "Epoch 1/30\n",
            "68/68 [==============================] - 1s 4ms/step - loss: 550339870720.0000 - accuracy: 0.0000e+00\n",
            "Epoch 2/30\n",
            "68/68 [==============================] - 0s 4ms/step - loss: 550193922048.0000 - accuracy: 0.0000e+00\n",
            "Epoch 3/30\n",
            "68/68 [==============================] - 0s 4ms/step - loss: 549510053888.0000 - accuracy: 0.0000e+00\n",
            "Epoch 4/30\n",
            "68/68 [==============================] - 0s 4ms/step - loss: 547786162176.0000 - accuracy: 0.0000e+00\n",
            "Epoch 5/30\n",
            "68/68 [==============================] - 0s 4ms/step - loss: 544546193408.0000 - accuracy: 0.0000e+00\n",
            "Epoch 6/30\n",
            "68/68 [==============================] - 0s 4ms/step - loss: 539370848256.0000 - accuracy: 0.0000e+00\n",
            "Epoch 7/30\n",
            "68/68 [==============================] - 0s 4ms/step - loss: 531885588480.0000 - accuracy: 0.0000e+00\n",
            "Epoch 8/30\n",
            "68/68 [==============================] - 0s 4ms/step - loss: 521809264640.0000 - accuracy: 0.0000e+00\n",
            "Epoch 9/30\n",
            "68/68 [==============================] - 0s 4ms/step - loss: 508924035072.0000 - accuracy: 0.0000e+00\n",
            "Epoch 10/30\n",
            "68/68 [==============================] - 0s 4ms/step - loss: 493118816256.0000 - accuracy: 0.0000e+00\n",
            "Epoch 11/30\n",
            "68/68 [==============================] - 0s 4ms/step - loss: 474342195200.0000 - accuracy: 0.0000e+00\n",
            "Epoch 12/30\n",
            "68/68 [==============================] - 0s 4ms/step - loss: 452659806208.0000 - accuracy: 0.0000e+00\n",
            "Epoch 13/30\n",
            "68/68 [==============================] - 0s 4ms/step - loss: 428262424576.0000 - accuracy: 0.0000e+00\n",
            "Epoch 14/30\n",
            "68/68 [==============================] - 0s 4ms/step - loss: 401399185408.0000 - accuracy: 0.0000e+00\n",
            "Epoch 15/30\n",
            "68/68 [==============================] - 0s 4ms/step - loss: 372459831296.0000 - accuracy: 0.0000e+00\n",
            "Epoch 16/30\n",
            "68/68 [==============================] - 0s 4ms/step - loss: 341879980032.0000 - accuracy: 0.0000e+00\n",
            "Epoch 17/30\n",
            "68/68 [==============================] - 0s 4ms/step - loss: 310142959616.0000 - accuracy: 0.0000e+00\n",
            "Epoch 18/30\n",
            "68/68 [==============================] - 0s 4ms/step - loss: 277856321536.0000 - accuracy: 0.0000e+00\n",
            "Epoch 19/30\n",
            "68/68 [==============================] - 0s 4ms/step - loss: 245624176640.0000 - accuracy: 0.0000e+00\n",
            "Epoch 20/30\n",
            "68/68 [==============================] - 0s 4ms/step - loss: 214026698752.0000 - accuracy: 0.0000e+00\n",
            "Epoch 21/30\n",
            "68/68 [==============================] - 0s 4ms/step - loss: 183678418944.0000 - accuracy: 0.0000e+00\n",
            "Epoch 22/30\n",
            "68/68 [==============================] - 0s 4ms/step - loss: 155168849920.0000 - accuracy: 0.0000e+00\n",
            "Epoch 23/30\n",
            "68/68 [==============================] - 0s 4ms/step - loss: 128894124032.0000 - accuracy: 0.0000e+00\n",
            "Epoch 24/30\n",
            "68/68 [==============================] - 0s 4ms/step - loss: 105331982336.0000 - accuracy: 0.0000e+00\n",
            "Epoch 25/30\n",
            "68/68 [==============================] - 0s 4ms/step - loss: 84694794240.0000 - accuracy: 0.0000e+00\n",
            "Epoch 26/30\n",
            "68/68 [==============================] - 0s 4ms/step - loss: 67090759680.0000 - accuracy: 0.0000e+00\n",
            "Epoch 27/30\n",
            "68/68 [==============================] - 0s 4ms/step - loss: 52510113792.0000 - accuracy: 0.0000e+00\n",
            "Epoch 28/30\n",
            "68/68 [==============================] - 0s 4ms/step - loss: 40776540160.0000 - accuracy: 0.0000e+00\n",
            "Epoch 29/30\n",
            "68/68 [==============================] - 0s 4ms/step - loss: 31638034432.0000 - accuracy: 0.0000e+00\n",
            "Epoch 30/30\n",
            "68/68 [==============================] - 0s 4ms/step - loss: 24730880000.0000 - accuracy: 0.0000e+00\n"
          ]
        },
        {
          "output_type": "execute_result",
          "data": {
            "text/plain": [
              "<keras.callbacks.History at 0x7f10603e4190>"
            ]
          },
          "metadata": {},
          "execution_count": 30
        }
      ]
    },
    {
      "cell_type": "code",
      "metadata": {
        "colab": {
          "base_uri": "https://localhost:8080/"
        },
        "id": "yD2zII3pRuKV",
        "outputId": "b76476e6-de35-49f7-bff6-e6a08a98bdee"
      },
      "source": [
        "#decision tree\n",
        "from sklearn.tree import DecisionTreeRegressor\n",
        "from sklearn.neighbors import KNeighborsRegressor\n",
        "\n",
        "# decision tree with max depth 20, min samples split 100\n",
        "dt=DecisionTreeRegressor(max_depth=20, min_samples_split=100)\n",
        "print(dt.fit(xtrain,ytrain))\n",
        "\n",
        "#knn with k=3\n",
        "knn_1=KNeighborsRegressor(n_neighbors=3)\n",
        "print(knn_1.fit(xtrain,ytrain))"
      ],
      "execution_count": null,
      "outputs": [
        {
          "output_type": "stream",
          "name": "stdout",
          "text": [
            "DecisionTreeRegressor(max_depth=20, min_samples_split=100)\n",
            "KNeighborsRegressor(n_neighbors=3)\n"
          ]
        }
      ]
    },
    {
      "cell_type": "markdown",
      "metadata": {
        "id": "4rPGNFqdINTP"
      },
      "source": [
        "## 6) Test your trained classifiers on the Validation set\n",
        "Test your trained classifiers on the validation set and print the mean squared errors.\n"
      ]
    },
    {
      "cell_type": "code",
      "metadata": {
        "colab": {
          "base_uri": "https://localhost:8080/"
        },
        "id": "QfSpJFZaRyVW",
        "outputId": "804b40b5-ea26-42d5-eeb9-36b679eb5f3a"
      },
      "source": [
        "# tests on validation\n",
        "from sklearn.metrics import mean_squared_error\n",
        "ypred_val_model1_1=model_hidden25_learning001.predict(xvalid)\n",
        "print(\"Model with hidden nodes=25 learning rate 0.001: \",mean_squared_error(yvalid, ypred_val_model1_1))\n",
        "\n",
        "ypred_val_model1_2=model_hidden25_learning01.predict(xvalid)\n",
        "print(\"Model with hidden nodes=25 learning rate 0.01: \",mean_squared_error(yvalid, ypred_val_model1_2))\n",
        "\n",
        "ypred_val_model1_3=model_hidden25_learning1.predict(xvalid)\n",
        "print(\"Model with hidden nodes=25: learning rate 0.1:\",mean_squared_error(yvalid, ypred_val_model1_3))\n",
        "\n",
        "print(\"\\n\")\n",
        "\n",
        "ypred_val_model2_1=model_hidden50_learning001.predict(xvalid)\n",
        "print(\"Model with hidden nodes=50 learning rate 0.001: \",mean_squared_error(yvalid, ypred_val_model2_1))\n",
        "\n",
        "ypred_val_model2_2=model_hidden50_learning01.predict(xvalid)\n",
        "print(\"Model with hidden nodes=50 learning rate 0.01: \",mean_squared_error(yvalid, ypred_val_model2_2))\n",
        "\n",
        "ypred_val_model2_3=model_hidden50_learning1.predict(xvalid)\n",
        "print(\"Model with hidden nodes=50: learning rate 0.1:\",mean_squared_error(yvalid, ypred_val_model2_3))\n",
        "\n",
        "print(\"\\n\")\n",
        "\n",
        "ypred_val_model3_1=model_hidden100_learning001.predict(xvalid)\n",
        "print(\"Model with hidden nodes=100 learning rate 0.001: \",mean_squared_error(yvalid, ypred_val_model3_1))\n",
        "\n",
        "ypred_val_model3_2=model_hidden100_learning01.predict(xvalid)\n",
        "print(\"Model with hidden nodes=100 learning rate 0.01: \",mean_squared_error(yvalid, ypred_val_model3_2))\n",
        "\n",
        "ypred_val_model3_3=model_hidden100_learning1.predict(xvalid)\n",
        "print(\"Model with hidden nodes=100: learning rate 0.1:\",mean_squared_error(yvalid, ypred_val_model3_3))"
      ],
      "execution_count": null,
      "outputs": [
        {
          "output_type": "stream",
          "name": "stdout",
          "text": [
            "Model with hidden nodes=25 learning rate 0.001:  541393047137.27734\n",
            "Model with hidden nodes=25 learning rate 0.01:  282709350136.288\n",
            "Model with hidden nodes=25: learning rate 0.1: 542179368013.8864\n",
            "\n",
            "\n",
            "Model with hidden nodes=50 learning rate 0.001:  540235766989.50275\n",
            "Model with hidden nodes=50 learning rate 0.01:  385626648447.6432\n",
            "Model with hidden nodes=50: learning rate 0.1: 3142919648.2428823\n",
            "\n",
            "\n",
            "Model with hidden nodes=100 learning rate 0.001:  538762827554.7875\n",
            "Model with hidden nodes=100 learning rate 0.01:  276592542402.69495\n",
            "Model with hidden nodes=100: learning rate 0.1: 1480239932.3440094\n"
          ]
        }
      ]
    },
    {
      "cell_type": "code",
      "metadata": {
        "colab": {
          "base_uri": "https://localhost:8080/"
        },
        "id": "X18M2XLRR-v2",
        "outputId": "fb5fe24e-4066-4692-ee56-280dd93c1b64"
      },
      "source": [
        "#test validation on two hidden layer models.\n",
        "# I only implemented 0.001 learning rate in two hidden models since it gives the less error.\n",
        "\n",
        "ypred_val_model4_1=model_twolayers_Hidden25_learning001.predict(xvalid)\n",
        "print(\"Model with two hidden layers each has # of nodes=25 learning rate 0.001: \",mean_squared_error(yvalid, ypred_val_model4_1))\n",
        "\n",
        "ypred_val_model4_2=model_twolayers_Hidden50_learning001.predict(xvalid)\n",
        "print(\"Model with two hidden layers each has # of nodes=50 learning rate 0.001: \",mean_squared_error(yvalid, ypred_val_model4_2))\n",
        "\n",
        "ypred_val_model4_3=model_twolayers_Hidden100_learning001.predict(xvalid)\n",
        "print(\"Model with two hidden layers each has # of nodes=100 learning rate 0.001: \",mean_squared_error(yvalid, ypred_val_model4_3))"
      ],
      "execution_count": null,
      "outputs": [
        {
          "output_type": "stream",
          "name": "stdout",
          "text": [
            "Model with two hidden layers each has # of nodes=25 learning rate 0.001:  462180123089.03125\n",
            "Model with two hidden layers each has # of nodes=50 learning rate 0.001:  270524833620.74155\n",
            "Model with two hidden layers each has # of nodes=100 learning rate 0.001:  21749074098.96465\n"
          ]
        }
      ]
    },
    {
      "cell_type": "code",
      "metadata": {
        "colab": {
          "base_uri": "https://localhost:8080/"
        },
        "id": "MWcq9FQrPgjP",
        "outputId": "ea130b63-0cfd-460a-ddbd-ad436c3c3c81"
      },
      "source": [
        "#evaluate decision tree and knn on validation\n",
        "\n",
        "#decision tree evaluation\n",
        "ypred_val_dt=dt.predict(xvalid)\n",
        "print(\"decision tree max depth 20 min samples split 100: \",mean_squared_error(yvalid, ypred_val_dt))\n",
        "\n",
        "#knn evaluation\n",
        "ypred_val_knn=knn_1.predict(xvalid)\n",
        "print(\"knn with k=3: \",mean_squared_error(yvalid, ypred_val_knn))"
      ],
      "execution_count": null,
      "outputs": [
        {
          "output_type": "stream",
          "name": "stdout",
          "text": [
            "decision tree max depth 20 min samples split 100:  374562253.66377574\n",
            "knn with k=3:  45096923.734956056\n"
          ]
        }
      ]
    },
    {
      "cell_type": "markdown",
      "metadata": {
        "id": "IC-b61QrMIju"
      },
      "source": [
        "## 7) Test your classifier on Test set\n",
        "\n",
        "- Load test data\n",
        "- Apply same pre-processing as training data (encoding categorical variables, scaling)\n",
        "- Predict the labels of testing data **using the best model that you have selected according to your validation results** and report the mean squared error. "
      ]
    },
    {
      "cell_type": "code",
      "metadata": {
        "colab": {
          "base_uri": "https://localhost:8080/",
          "height": 204
        },
        "id": "8vulq8eGMIjv",
        "outputId": "4c33d4a1-2c40-418b-b2aa-a1447b625c4a"
      },
      "source": [
        "# test results\n",
        "test_df = pd.read_csv(\"test.csv\")\n",
        "test_df.head()"
      ],
      "execution_count": null,
      "outputs": [
        {
          "output_type": "execute_result",
          "data": {
            "text/html": [
              "<div>\n",
              "<style scoped>\n",
              "    .dataframe tbody tr th:only-of-type {\n",
              "        vertical-align: middle;\n",
              "    }\n",
              "\n",
              "    .dataframe tbody tr th {\n",
              "        vertical-align: top;\n",
              "    }\n",
              "\n",
              "    .dataframe thead th {\n",
              "        text-align: right;\n",
              "    }\n",
              "</style>\n",
              "<table border=\"1\" class=\"dataframe\">\n",
              "  <thead>\n",
              "    <tr style=\"text-align: right;\">\n",
              "      <th></th>\n",
              "      <th>sqmtrs</th>\n",
              "      <th>nrooms</th>\n",
              "      <th>view</th>\n",
              "      <th>crime_rate</th>\n",
              "      <th>price</th>\n",
              "    </tr>\n",
              "  </thead>\n",
              "  <tbody>\n",
              "    <tr>\n",
              "      <th>0</th>\n",
              "      <td>349</td>\n",
              "      <td>3</td>\n",
              "      <td>south</td>\n",
              "      <td>high</td>\n",
              "      <td>8.365535e+05</td>\n",
              "    </tr>\n",
              "    <tr>\n",
              "      <th>1</th>\n",
              "      <td>169</td>\n",
              "      <td>1</td>\n",
              "      <td>west</td>\n",
              "      <td>high</td>\n",
              "      <td>5.127416e+05</td>\n",
              "    </tr>\n",
              "    <tr>\n",
              "      <th>2</th>\n",
              "      <td>233</td>\n",
              "      <td>3</td>\n",
              "      <td>south</td>\n",
              "      <td>high</td>\n",
              "      <td>6.638806e+05</td>\n",
              "    </tr>\n",
              "    <tr>\n",
              "      <th>3</th>\n",
              "      <td>340</td>\n",
              "      <td>4</td>\n",
              "      <td>north</td>\n",
              "      <td>low</td>\n",
              "      <td>1.000086e+06</td>\n",
              "    </tr>\n",
              "    <tr>\n",
              "      <th>4</th>\n",
              "      <td>199</td>\n",
              "      <td>2</td>\n",
              "      <td>east</td>\n",
              "      <td>low</td>\n",
              "      <td>7.450151e+05</td>\n",
              "    </tr>\n",
              "  </tbody>\n",
              "</table>\n",
              "</div>"
            ],
            "text/plain": [
              "   sqmtrs  nrooms   view crime_rate         price\n",
              "0     349       3  south       high  8.365535e+05\n",
              "1     169       1   west       high  5.127416e+05\n",
              "2     233       3  south       high  6.638806e+05\n",
              "3     340       4  north        low  1.000086e+06\n",
              "4     199       2   east        low  7.450151e+05"
            ]
          },
          "metadata": {},
          "execution_count": 34
        }
      ]
    },
    {
      "cell_type": "code",
      "metadata": {
        "colab": {
          "base_uri": "https://localhost:8080/",
          "height": 224
        },
        "id": "WUDl25-eMIjv",
        "outputId": "a13bad09-7863-4134-c06d-684c41e5cd25"
      },
      "source": [
        "# encode the categorical variables\n",
        "#select the categorical features that has more than or equal to 2 classes\n",
        "multi_label_features=['view','crime_rate']\n",
        "test_Scaled=pd.get_dummies(data=test_df,columns=multi_label_features)\n",
        "\n",
        "# scale the features between 0-1\n",
        "\n",
        "from sklearn.preprocessing import MinMaxScaler\n",
        "msc = MinMaxScaler()\n",
        "\n",
        "test_Scaled[['sqmtrs','nrooms','view_east','view_north','view_south','view_west','crime_rate_high','crime_rate_low']]=msc.fit_transform(test_Scaled[['sqmtrs','nrooms','view_east','view_north','view_south','view_west','crime_rate_high','crime_rate_low']])\n",
        "pd_test_Scaled_upd=pd.DataFrame(test_Scaled)\n",
        "pd_test_Scaled_upd.head()"
      ],
      "execution_count": null,
      "outputs": [
        {
          "output_type": "execute_result",
          "data": {
            "text/html": [
              "<div>\n",
              "<style scoped>\n",
              "    .dataframe tbody tr th:only-of-type {\n",
              "        vertical-align: middle;\n",
              "    }\n",
              "\n",
              "    .dataframe tbody tr th {\n",
              "        vertical-align: top;\n",
              "    }\n",
              "\n",
              "    .dataframe thead th {\n",
              "        text-align: right;\n",
              "    }\n",
              "</style>\n",
              "<table border=\"1\" class=\"dataframe\">\n",
              "  <thead>\n",
              "    <tr style=\"text-align: right;\">\n",
              "      <th></th>\n",
              "      <th>sqmtrs</th>\n",
              "      <th>nrooms</th>\n",
              "      <th>price</th>\n",
              "      <th>view_east</th>\n",
              "      <th>view_north</th>\n",
              "      <th>view_south</th>\n",
              "      <th>view_west</th>\n",
              "      <th>crime_rate_high</th>\n",
              "      <th>crime_rate_low</th>\n",
              "    </tr>\n",
              "  </thead>\n",
              "  <tbody>\n",
              "    <tr>\n",
              "      <th>0</th>\n",
              "      <td>1.000000</td>\n",
              "      <td>0.50</td>\n",
              "      <td>8.365535e+05</td>\n",
              "      <td>0.0</td>\n",
              "      <td>0.0</td>\n",
              "      <td>1.0</td>\n",
              "      <td>0.0</td>\n",
              "      <td>1.0</td>\n",
              "      <td>0.0</td>\n",
              "    </tr>\n",
              "    <tr>\n",
              "      <th>1</th>\n",
              "      <td>0.277108</td>\n",
              "      <td>0.00</td>\n",
              "      <td>5.127416e+05</td>\n",
              "      <td>0.0</td>\n",
              "      <td>0.0</td>\n",
              "      <td>0.0</td>\n",
              "      <td>1.0</td>\n",
              "      <td>1.0</td>\n",
              "      <td>0.0</td>\n",
              "    </tr>\n",
              "    <tr>\n",
              "      <th>2</th>\n",
              "      <td>0.534137</td>\n",
              "      <td>0.50</td>\n",
              "      <td>6.638806e+05</td>\n",
              "      <td>0.0</td>\n",
              "      <td>0.0</td>\n",
              "      <td>1.0</td>\n",
              "      <td>0.0</td>\n",
              "      <td>1.0</td>\n",
              "      <td>0.0</td>\n",
              "    </tr>\n",
              "    <tr>\n",
              "      <th>3</th>\n",
              "      <td>0.963855</td>\n",
              "      <td>0.75</td>\n",
              "      <td>1.000086e+06</td>\n",
              "      <td>0.0</td>\n",
              "      <td>1.0</td>\n",
              "      <td>0.0</td>\n",
              "      <td>0.0</td>\n",
              "      <td>0.0</td>\n",
              "      <td>1.0</td>\n",
              "    </tr>\n",
              "    <tr>\n",
              "      <th>4</th>\n",
              "      <td>0.397590</td>\n",
              "      <td>0.25</td>\n",
              "      <td>7.450151e+05</td>\n",
              "      <td>1.0</td>\n",
              "      <td>0.0</td>\n",
              "      <td>0.0</td>\n",
              "      <td>0.0</td>\n",
              "      <td>0.0</td>\n",
              "      <td>1.0</td>\n",
              "    </tr>\n",
              "  </tbody>\n",
              "</table>\n",
              "</div>"
            ],
            "text/plain": [
              "     sqmtrs  nrooms         price  ...  view_west  crime_rate_high  crime_rate_low\n",
              "0  1.000000    0.50  8.365535e+05  ...        0.0              1.0             0.0\n",
              "1  0.277108    0.00  5.127416e+05  ...        1.0              1.0             0.0\n",
              "2  0.534137    0.50  6.638806e+05  ...        0.0              1.0             0.0\n",
              "3  0.963855    0.75  1.000086e+06  ...        0.0              0.0             1.0\n",
              "4  0.397590    0.25  7.450151e+05  ...        0.0              0.0             1.0\n",
              "\n",
              "[5 rows x 9 columns]"
            ]
          },
          "metadata": {},
          "execution_count": 35
        }
      ]
    },
    {
      "cell_type": "code",
      "metadata": {
        "colab": {
          "base_uri": "https://localhost:8080/",
          "height": 224
        },
        "id": "HwG8PoBJNpKz",
        "outputId": "5dc93e12-0f3c-41ea-94d7-864737376de6"
      },
      "source": [
        "xtest=pd_test_Scaled_upd.drop(labels=['price'], axis=1)   #target is dropped\n",
        "xtest.head()\n"
      ],
      "execution_count": null,
      "outputs": [
        {
          "output_type": "execute_result",
          "data": {
            "text/html": [
              "<div>\n",
              "<style scoped>\n",
              "    .dataframe tbody tr th:only-of-type {\n",
              "        vertical-align: middle;\n",
              "    }\n",
              "\n",
              "    .dataframe tbody tr th {\n",
              "        vertical-align: top;\n",
              "    }\n",
              "\n",
              "    .dataframe thead th {\n",
              "        text-align: right;\n",
              "    }\n",
              "</style>\n",
              "<table border=\"1\" class=\"dataframe\">\n",
              "  <thead>\n",
              "    <tr style=\"text-align: right;\">\n",
              "      <th></th>\n",
              "      <th>sqmtrs</th>\n",
              "      <th>nrooms</th>\n",
              "      <th>view_east</th>\n",
              "      <th>view_north</th>\n",
              "      <th>view_south</th>\n",
              "      <th>view_west</th>\n",
              "      <th>crime_rate_high</th>\n",
              "      <th>crime_rate_low</th>\n",
              "    </tr>\n",
              "  </thead>\n",
              "  <tbody>\n",
              "    <tr>\n",
              "      <th>0</th>\n",
              "      <td>1.000000</td>\n",
              "      <td>0.50</td>\n",
              "      <td>0.0</td>\n",
              "      <td>0.0</td>\n",
              "      <td>1.0</td>\n",
              "      <td>0.0</td>\n",
              "      <td>1.0</td>\n",
              "      <td>0.0</td>\n",
              "    </tr>\n",
              "    <tr>\n",
              "      <th>1</th>\n",
              "      <td>0.277108</td>\n",
              "      <td>0.00</td>\n",
              "      <td>0.0</td>\n",
              "      <td>0.0</td>\n",
              "      <td>0.0</td>\n",
              "      <td>1.0</td>\n",
              "      <td>1.0</td>\n",
              "      <td>0.0</td>\n",
              "    </tr>\n",
              "    <tr>\n",
              "      <th>2</th>\n",
              "      <td>0.534137</td>\n",
              "      <td>0.50</td>\n",
              "      <td>0.0</td>\n",
              "      <td>0.0</td>\n",
              "      <td>1.0</td>\n",
              "      <td>0.0</td>\n",
              "      <td>1.0</td>\n",
              "      <td>0.0</td>\n",
              "    </tr>\n",
              "    <tr>\n",
              "      <th>3</th>\n",
              "      <td>0.963855</td>\n",
              "      <td>0.75</td>\n",
              "      <td>0.0</td>\n",
              "      <td>1.0</td>\n",
              "      <td>0.0</td>\n",
              "      <td>0.0</td>\n",
              "      <td>0.0</td>\n",
              "      <td>1.0</td>\n",
              "    </tr>\n",
              "    <tr>\n",
              "      <th>4</th>\n",
              "      <td>0.397590</td>\n",
              "      <td>0.25</td>\n",
              "      <td>1.0</td>\n",
              "      <td>0.0</td>\n",
              "      <td>0.0</td>\n",
              "      <td>0.0</td>\n",
              "      <td>0.0</td>\n",
              "      <td>1.0</td>\n",
              "    </tr>\n",
              "  </tbody>\n",
              "</table>\n",
              "</div>"
            ],
            "text/plain": [
              "     sqmtrs  nrooms  view_east  ...  view_west  crime_rate_high  crime_rate_low\n",
              "0  1.000000    0.50        0.0  ...        0.0              1.0             0.0\n",
              "1  0.277108    0.00        0.0  ...        1.0              1.0             0.0\n",
              "2  0.534137    0.50        0.0  ...        0.0              1.0             0.0\n",
              "3  0.963855    0.75        0.0  ...        0.0              0.0             1.0\n",
              "4  0.397590    0.25        1.0  ...        0.0              0.0             1.0\n",
              "\n",
              "[5 rows x 8 columns]"
            ]
          },
          "metadata": {},
          "execution_count": 36
        }
      ]
    },
    {
      "cell_type": "code",
      "metadata": {
        "colab": {
          "base_uri": "https://localhost:8080/",
          "height": 204
        },
        "id": "puP30HHhN-Dh",
        "outputId": "db6067e2-147b-43ad-d36e-77e2c1fc1a27"
      },
      "source": [
        "ytest=pd_test_Scaled_upd[['price']]  #target\n",
        "ytest.head()"
      ],
      "execution_count": null,
      "outputs": [
        {
          "output_type": "execute_result",
          "data": {
            "text/html": [
              "<div>\n",
              "<style scoped>\n",
              "    .dataframe tbody tr th:only-of-type {\n",
              "        vertical-align: middle;\n",
              "    }\n",
              "\n",
              "    .dataframe tbody tr th {\n",
              "        vertical-align: top;\n",
              "    }\n",
              "\n",
              "    .dataframe thead th {\n",
              "        text-align: right;\n",
              "    }\n",
              "</style>\n",
              "<table border=\"1\" class=\"dataframe\">\n",
              "  <thead>\n",
              "    <tr style=\"text-align: right;\">\n",
              "      <th></th>\n",
              "      <th>price</th>\n",
              "    </tr>\n",
              "  </thead>\n",
              "  <tbody>\n",
              "    <tr>\n",
              "      <th>0</th>\n",
              "      <td>8.365535e+05</td>\n",
              "    </tr>\n",
              "    <tr>\n",
              "      <th>1</th>\n",
              "      <td>5.127416e+05</td>\n",
              "    </tr>\n",
              "    <tr>\n",
              "      <th>2</th>\n",
              "      <td>6.638806e+05</td>\n",
              "    </tr>\n",
              "    <tr>\n",
              "      <th>3</th>\n",
              "      <td>1.000086e+06</td>\n",
              "    </tr>\n",
              "    <tr>\n",
              "      <th>4</th>\n",
              "      <td>7.450151e+05</td>\n",
              "    </tr>\n",
              "  </tbody>\n",
              "</table>\n",
              "</div>"
            ],
            "text/plain": [
              "          price\n",
              "0  8.365535e+05\n",
              "1  5.127416e+05\n",
              "2  6.638806e+05\n",
              "3  1.000086e+06\n",
              "4  7.450151e+05"
            ]
          },
          "metadata": {},
          "execution_count": 37
        }
      ]
    },
    {
      "cell_type": "code",
      "metadata": {
        "colab": {
          "base_uri": "https://localhost:8080/"
        },
        "id": "wCDOABqQMIjw",
        "outputId": "a06f239a-5ee1-4b69-f29b-1c6e4949cb71"
      },
      "source": [
        "# Evaluate the model on the test data using `evaluate`\n",
        "# the one that has 100 nodes and 0.1 learning rate gives the best result in one layer\n",
        "\n",
        "print('Evaluate on test data')\n",
        "ypred_test_model=model_hidden100_learning1.predict(xtest)\n",
        "#convert minmaxscaled values back to original \n",
        "print(\"Model with hidden nodes=100 and learning rate 0.1: \",mean_squared_error(ytest, ypred_test_model)*100)"
      ],
      "execution_count": null,
      "outputs": [
        {
          "output_type": "stream",
          "name": "stdout",
          "text": [
            "Evaluate on test data\n",
            "Model with hidden nodes=100 and learning rate 0.1:  146082728149.01855\n"
          ]
        }
      ]
    },
    {
      "cell_type": "code",
      "metadata": {
        "colab": {
          "base_uri": "https://localhost:8080/"
        },
        "id": "cHwTeke1MIjy",
        "outputId": "a849e902-95a5-4734-847a-ee358c3c2bd8"
      },
      "source": [
        "scores = model_hidden100_learning1.evaluate(xtest, ytest, verbose=0)\n",
        "print(\"%s: %.2f%%\" % (model_hidden100_learning1.metrics_names[1], scores[1]*100))\n",
        "print(\"%s: %.2f%%\" % (model_hidden100_learning1.metrics_names[0], scores[0]*100))"
      ],
      "execution_count": null,
      "outputs": [
        {
          "output_type": "stream",
          "name": "stdout",
          "text": [
            "accuracy: 0.00%\n",
            "loss: 146082752000.00%\n"
          ]
        }
      ]
    },
    {
      "cell_type": "markdown",
      "metadata": {
        "id": "qpfx9Aq1MIjy"
      },
      "source": [
        "##8) Report Your Results\n",
        "\n",
        "**Notebook should be RUN:** As training and testing may take a long time, we may just look at your notebook results without running the code again; so make sure **each cell is run**, so outputs are there.\n",
        "\n",
        "**Report:** Write an **1-2 page summary** of your approach to this problem **below**. \n",
        "\n",
        "**Must include statements such as those below:**\n",
        "**(Remove the text in parentheses, below, and include your own report)**\n",
        "\n",
        "  In this homework, our problem is to implement several neural network models with different parameters and find the one that predicts house prices with less error. In the dataset, there are information about square meters, number of rooms, view, crime rate in the location and price (price) values belong to the distinct homes. \n",
        "\n",
        "  The size of training dataset is 4800 rows and 5 columns; which are sqmtrs, nrooms, view, crime_rate and price. Price is the target column. View and crime_rate columns are categorical. Since machine learning models require input variables numeric, we have to encode it before developing the model. This stage is called feature extraction and preprocessing. After encoding the categorical columns by using get_dummies, all features are scaled between 0-1. This is performed to normalize the features of data with MinMaxScaler. This is important because we do not want a dominance of a variable just because its quantity is higher. \n",
        "\n",
        "  After these, the target is separated from the dataframe.  By using train_test_split, the training set is separated as 90% of it for training, 10% of it for validation.\n",
        "\n",
        "  Since it is a regression problem, mean squared error is the suitable loss function. In regressions, the last node in neural network should use linear activation function. I chose to use ReLu activation function in hidden layer nodes.\n",
        "\n",
        "  It should be noted that while preprocessing the dataset, I did not scale the price which is the target.\n",
        "\n",
        "\n",
        "**Add your observations as follows** (keep the questions for easy grading/context) in the report part of your notebook.\n",
        "\n",
        "**Observations**\n",
        "\n",
        "- Try a few learning rates for N=25 hidden neurons,  train for the indicated amount of epochs. Comment on what happens when learning rate is large or small? What is a good number/range for the learning rate?\n",
        "  \n",
        "\n",
        "number of nodes/ learning rate  | 0.001|0.01|0.1\n",
        "-------------------|-------------------|-------------------|-------------------\n",
        "N=25   |541393047137.27 | 282709350136.2|542179368013.88\n",
        "\n",
        "  I implemented one hidden layer that has 25 nodes with different learning rates. Learning rate is used step size calculations. The minimum error is obtained when learning rate is equal to 0.01 in the case of N=25. If a learning rate is too large it probably passes the optimal point, since the step size will be higher with a high learning rate. In the case of too small learning rate, we will need too many iterations to converge the optimal solution. The range of values for learning rate is less than 1.0 and greater than 10^(-6). However, default value is taken 0.1 or 0.01 in general.\n",
        "\n",
        "- Use that learning rate and vary the number of hidden neurons for the given values and try the indicated number of epochs. Give the validation mean squared errors for different approach and meta-parameters tried **in a table** and state which one you selected as your model. How many hidden neurons give the best model? \n",
        "\n",
        "  only one layer:\n",
        "\n",
        "number of nodes/ learning rate  | 0.001|0.01|0.1\n",
        "-------------------|-------------------|-------------------|-------------------\n",
        "N=25   | 541393047137.27|\t282709350136.2 |\t542179368013.88\n",
        "N=50   |540235766989.50|\t385626648447.64\t|3142919648.24\n",
        "N=100  |538762827554.78|\t276592542402.69|\t**1480239932.34**\n",
        "\n",
        "\n",
        "   Two layers with same amounts of nodes (this are implemented only with learning rate 0.001) :\n",
        "\n",
        "number of nodes/ learning rate  | 0.001\n",
        "-------------------|-------------------\n",
        "N=25   |462180123089.03\n",
        "N=50   | 270524833620.74 \n",
        "N=100  |21749074098.96\n",
        "\n",
        "The one that has one layer with 100 nodes and uses 0.1 learning rate gives the best result. The mean squared error of it is the smallest one compared to others. It should be noted that while too few nodes will cause us to get high error, too many nodes may overfit.  \n",
        "\n",
        "- State  what your test results are with the chosen approach and meta-parameters: e.g. \"We have obtained the best results on the validation set with the ..........approach using a value of ...... for .... parameter. The result of this model on the test data is ..... % accuracy.\"\" \n",
        "\n",
        "  I have obtained the best result on the validation set with the neural network model that has one layer with 100 nodes and 0.1 learning rate. The mean squared error of this model on test set is 146082728149.01.\n",
        "\n",
        "- How slow is learning? Any other problems?\n",
        "\n",
        "  When the number of nodes is kept constant and the learning rate is changed, more time is expected to spent in the small learning rate due to the small step sizes. It is obtained as expected.\n",
        "\n",
        "model  | measured execution time\n",
        "-------------------|-------------------\n",
        "One layer, hidden node=25 rate=0.001 | 10.83 seconds\n",
        "One layer, hidden node=25 rate=0.01  | 10.74  seconds\n",
        "One layer, hidden node=25 rate=0.1 | 10.32 seconds\n",
        "\n",
        "In addition to the neural network models, I also implemented knn and decision tree models. The mean squared errors are as follows:\n",
        "\n",
        "model  | mean squared error\n",
        "-------------------|-------------------\n",
        "decision tree max depth 20 min samples split 100: |\t374562253.66\n",
        "knn with k=3:|\t**45096923.73**\n",
        "\n"
      ]
    }
  ]
}